{
 "cells": [
  {
   "cell_type": "markdown",
   "id": "e318f1e7",
   "metadata": {},
   "source": [
    "provided a DATASET of ~1.7M records of posts collected from Reddit using Google big query."
   ]
  },
  {
   "cell_type": "code",
   "execution_count": 1,
   "id": "5c064289",
   "metadata": {},
   "outputs": [],
   "source": [
    "import pandas as pd\n",
    "import numpy as np\n",
    "import matplotlib.pyplot as plt\n",
    "import seaborn as sns"
   ]
  },
  {
   "cell_type": "code",
   "execution_count": 2,
   "id": "3571df43",
   "metadata": {},
   "outputs": [],
   "source": [
    "from sklearn.feature_extraction.text import TfidfVectorizer\n",
    "from sklearn.pipeline import Pipeline"
   ]
  },
  {
   "cell_type": "code",
   "execution_count": 3,
   "id": "6916a027",
   "metadata": {},
   "outputs": [],
   "source": [
    "from sklearn.model_selection import train_test_split\n",
    "from sklearn.svm import LinearSVC\n",
    "from sklearn.metrics import classification_report, f1_score\n",
    "from sklearn.metrics import accuracy_score"
   ]
  },
  {
   "cell_type": "code",
   "execution_count": 4,
   "id": "14510694",
   "metadata": {},
   "outputs": [],
   "source": [
    "data=pd.read_csv(\"MBTI 500.csv\")"
   ]
  },
  {
   "cell_type": "code",
   "execution_count": 5,
   "id": "a9ce47e4",
   "metadata": {},
   "outputs": [
    {
     "data": {
      "text/html": [
       "<div>\n",
       "<style scoped>\n",
       "    .dataframe tbody tr th:only-of-type {\n",
       "        vertical-align: middle;\n",
       "    }\n",
       "\n",
       "    .dataframe tbody tr th {\n",
       "        vertical-align: top;\n",
       "    }\n",
       "\n",
       "    .dataframe thead th {\n",
       "        text-align: right;\n",
       "    }\n",
       "</style>\n",
       "<table border=\"1\" class=\"dataframe\">\n",
       "  <thead>\n",
       "    <tr style=\"text-align: right;\">\n",
       "      <th></th>\n",
       "      <th>posts</th>\n",
       "      <th>type</th>\n",
       "    </tr>\n",
       "  </thead>\n",
       "  <tbody>\n",
       "    <tr>\n",
       "      <th>0</th>\n",
       "      <td>know intj tool use interaction people excuse a...</td>\n",
       "      <td>INTJ</td>\n",
       "    </tr>\n",
       "    <tr>\n",
       "      <th>1</th>\n",
       "      <td>rap music ehh opp yeah know valid well know fa...</td>\n",
       "      <td>INTJ</td>\n",
       "    </tr>\n",
       "    <tr>\n",
       "      <th>2</th>\n",
       "      <td>preferably p hd low except wew lad video p min...</td>\n",
       "      <td>INTJ</td>\n",
       "    </tr>\n",
       "    <tr>\n",
       "      <th>3</th>\n",
       "      <td>drink like wish could drink red wine give head...</td>\n",
       "      <td>INTJ</td>\n",
       "    </tr>\n",
       "    <tr>\n",
       "      <th>4</th>\n",
       "      <td>space program ah bad deal meing freelance max ...</td>\n",
       "      <td>INTJ</td>\n",
       "    </tr>\n",
       "    <tr>\n",
       "      <th>...</th>\n",
       "      <td>...</td>\n",
       "      <td>...</td>\n",
       "    </tr>\n",
       "    <tr>\n",
       "      <th>106062</th>\n",
       "      <td>stay frustrate world life want take long nap w...</td>\n",
       "      <td>INFP</td>\n",
       "    </tr>\n",
       "    <tr>\n",
       "      <th>106063</th>\n",
       "      <td>fizzle around time mention sure mistake thing ...</td>\n",
       "      <td>INFP</td>\n",
       "    </tr>\n",
       "    <tr>\n",
       "      <th>106064</th>\n",
       "      <td>schedule modify hey w intp strong wing underst...</td>\n",
       "      <td>INFP</td>\n",
       "    </tr>\n",
       "    <tr>\n",
       "      <th>106065</th>\n",
       "      <td>enfj since january busy schedule able spend li...</td>\n",
       "      <td>INFP</td>\n",
       "    </tr>\n",
       "    <tr>\n",
       "      <th>106066</th>\n",
       "      <td>feel like men good problem tell parent want te...</td>\n",
       "      <td>INFP</td>\n",
       "    </tr>\n",
       "  </tbody>\n",
       "</table>\n",
       "<p>106067 rows × 2 columns</p>\n",
       "</div>"
      ],
      "text/plain": [
       "                                                    posts  type\n",
       "0       know intj tool use interaction people excuse a...  INTJ\n",
       "1       rap music ehh opp yeah know valid well know fa...  INTJ\n",
       "2       preferably p hd low except wew lad video p min...  INTJ\n",
       "3       drink like wish could drink red wine give head...  INTJ\n",
       "4       space program ah bad deal meing freelance max ...  INTJ\n",
       "...                                                   ...   ...\n",
       "106062  stay frustrate world life want take long nap w...  INFP\n",
       "106063  fizzle around time mention sure mistake thing ...  INFP\n",
       "106064  schedule modify hey w intp strong wing underst...  INFP\n",
       "106065  enfj since january busy schedule able spend li...  INFP\n",
       "106066  feel like men good problem tell parent want te...  INFP\n",
       "\n",
       "[106067 rows x 2 columns]"
      ]
     },
     "execution_count": 5,
     "metadata": {},
     "output_type": "execute_result"
    }
   ],
   "source": [
    "data"
   ]
  },
  {
   "cell_type": "code",
   "execution_count": 6,
   "id": "2bbf55ea",
   "metadata": {},
   "outputs": [
    {
     "data": {
      "text/plain": [
       "<AxesSubplot:>"
      ]
     },
     "execution_count": 6,
     "metadata": {},
     "output_type": "execute_result"
    },
    {
     "data": {
      "image/png": "[encoded data removed]",
      "text/plain": [
       "<Figure size 432x288 with 1 Axes>"
      ]
     },
     "metadata": {
      "needs_background": "light"
     },
     "output_type": "display_data"
    }
   ],
   "source": [
    "data['type'].value_counts().plot(kind='bar')"
   ]
  },
  {
   "cell_type": "code",
   "execution_count": 7,
   "id": "381a8563",
   "metadata": {},
   "outputs": [
    {
     "data": {
      "text/plain": [
       "INTP    24961\n",
       "INTJ    22427\n",
       "INFJ    14963\n",
       "INFP    12134\n",
       "ENTP    11725\n",
       "ENFP     6167\n",
       "ISTP     3424\n",
       "ENTJ     2955\n",
       "ESTP     1986\n",
       "ENFJ     1534\n",
       "ISTJ     1243\n",
       "ISFP      875\n",
       "ISFJ      650\n",
       "ESTJ      482\n",
       "ESFP      360\n",
       "ESFJ      181\n",
       "Name: type, dtype: int64"
      ]
     },
     "execution_count": 7,
     "metadata": {},
     "output_type": "execute_result"
    }
   ],
   "source": [
    "data['type'].value_counts() # INTP 24961, ESFJ 181 "
   ]
  },
  {
   "cell_type": "code",
   "execution_count": 8,
   "id": "8902df6c",
   "metadata": {},
   "outputs": [],
   "source": [
    "data['energy']=data['type'].apply(lambda x:x[0])\n",
    "data['recognize']=data['type'].apply(lambda x:x[1])\n",
    "data['judgment']=data['type'].apply(lambda x:x[2])\n",
    "data['plan']=data['type'].apply(lambda x:x[3])"
   ]
  },
  {
   "cell_type": "code",
   "execution_count": 9,
   "id": "6335c677",
   "metadata": {},
   "outputs": [
    {
     "data": {
      "text/html": [
       "<div>\n",
       "<style scoped>\n",
       "    .dataframe tbody tr th:only-of-type {\n",
       "        vertical-align: middle;\n",
       "    }\n",
       "\n",
       "    .dataframe tbody tr th {\n",
       "        vertical-align: top;\n",
       "    }\n",
       "\n",
       "    .dataframe thead th {\n",
       "        text-align: right;\n",
       "    }\n",
       "</style>\n",
       "<table border=\"1\" class=\"dataframe\">\n",
       "  <thead>\n",
       "    <tr style=\"text-align: right;\">\n",
       "      <th></th>\n",
       "      <th>posts</th>\n",
       "      <th>type</th>\n",
       "      <th>energy</th>\n",
       "      <th>recognize</th>\n",
       "      <th>judgment</th>\n",
       "      <th>plan</th>\n",
       "    </tr>\n",
       "  </thead>\n",
       "  <tbody>\n",
       "    <tr>\n",
       "      <th>0</th>\n",
       "      <td>know intj tool use interaction people excuse a...</td>\n",
       "      <td>INTJ</td>\n",
       "      <td>I</td>\n",
       "      <td>N</td>\n",
       "      <td>T</td>\n",
       "      <td>J</td>\n",
       "    </tr>\n",
       "    <tr>\n",
       "      <th>1</th>\n",
       "      <td>rap music ehh opp yeah know valid well know fa...</td>\n",
       "      <td>INTJ</td>\n",
       "      <td>I</td>\n",
       "      <td>N</td>\n",
       "      <td>T</td>\n",
       "      <td>J</td>\n",
       "    </tr>\n",
       "    <tr>\n",
       "      <th>2</th>\n",
       "      <td>preferably p hd low except wew lad video p min...</td>\n",
       "      <td>INTJ</td>\n",
       "      <td>I</td>\n",
       "      <td>N</td>\n",
       "      <td>T</td>\n",
       "      <td>J</td>\n",
       "    </tr>\n",
       "    <tr>\n",
       "      <th>3</th>\n",
       "      <td>drink like wish could drink red wine give head...</td>\n",
       "      <td>INTJ</td>\n",
       "      <td>I</td>\n",
       "      <td>N</td>\n",
       "      <td>T</td>\n",
       "      <td>J</td>\n",
       "    </tr>\n",
       "    <tr>\n",
       "      <th>4</th>\n",
       "      <td>space program ah bad deal meing freelance max ...</td>\n",
       "      <td>INTJ</td>\n",
       "      <td>I</td>\n",
       "      <td>N</td>\n",
       "      <td>T</td>\n",
       "      <td>J</td>\n",
       "    </tr>\n",
       "    <tr>\n",
       "      <th>...</th>\n",
       "      <td>...</td>\n",
       "      <td>...</td>\n",
       "      <td>...</td>\n",
       "      <td>...</td>\n",
       "      <td>...</td>\n",
       "      <td>...</td>\n",
       "    </tr>\n",
       "    <tr>\n",
       "      <th>106062</th>\n",
       "      <td>stay frustrate world life want take long nap w...</td>\n",
       "      <td>INFP</td>\n",
       "      <td>I</td>\n",
       "      <td>N</td>\n",
       "      <td>F</td>\n",
       "      <td>P</td>\n",
       "    </tr>\n",
       "    <tr>\n",
       "      <th>106063</th>\n",
       "      <td>fizzle around time mention sure mistake thing ...</td>\n",
       "      <td>INFP</td>\n",
       "      <td>I</td>\n",
       "      <td>N</td>\n",
       "      <td>F</td>\n",
       "      <td>P</td>\n",
       "    </tr>\n",
       "    <tr>\n",
       "      <th>106064</th>\n",
       "      <td>schedule modify hey w intp strong wing underst...</td>\n",
       "      <td>INFP</td>\n",
       "      <td>I</td>\n",
       "      <td>N</td>\n",
       "      <td>F</td>\n",
       "      <td>P</td>\n",
       "    </tr>\n",
       "    <tr>\n",
       "      <th>106065</th>\n",
       "      <td>enfj since january busy schedule able spend li...</td>\n",
       "      <td>INFP</td>\n",
       "      <td>I</td>\n",
       "      <td>N</td>\n",
       "      <td>F</td>\n",
       "      <td>P</td>\n",
       "    </tr>\n",
       "    <tr>\n",
       "      <th>106066</th>\n",
       "      <td>feel like men good problem tell parent want te...</td>\n",
       "      <td>INFP</td>\n",
       "      <td>I</td>\n",
       "      <td>N</td>\n",
       "      <td>F</td>\n",
       "      <td>P</td>\n",
       "    </tr>\n",
       "  </tbody>\n",
       "</table>\n",
       "<p>106067 rows × 6 columns</p>\n",
       "</div>"
      ],
      "text/plain": [
       "                                                    posts  type energy  \\\n",
       "0       know intj tool use interaction people excuse a...  INTJ      I   \n",
       "1       rap music ehh opp yeah know valid well know fa...  INTJ      I   \n",
       "2       preferably p hd low except wew lad video p min...  INTJ      I   \n",
       "3       drink like wish could drink red wine give head...  INTJ      I   \n",
       "4       space program ah bad deal meing freelance max ...  INTJ      I   \n",
       "...                                                   ...   ...    ...   \n",
       "106062  stay frustrate world life want take long nap w...  INFP      I   \n",
       "106063  fizzle around time mention sure mistake thing ...  INFP      I   \n",
       "106064  schedule modify hey w intp strong wing underst...  INFP      I   \n",
       "106065  enfj since january busy schedule able spend li...  INFP      I   \n",
       "106066  feel like men good problem tell parent want te...  INFP      I   \n",
       "\n",
       "       recognize judgment plan  \n",
       "0              N        T    J  \n",
       "1              N        T    J  \n",
       "2              N        T    J  \n",
       "3              N        T    J  \n",
       "4              N        T    J  \n",
       "...          ...      ...  ...  \n",
       "106062         N        F    P  \n",
       "106063         N        F    P  \n",
       "106064         N        F    P  \n",
       "106065         N        F    P  \n",
       "106066         N        F    P  \n",
       "\n",
       "[106067 rows x 6 columns]"
      ]
     },
     "execution_count": 9,
     "metadata": {},
     "output_type": "execute_result"
    }
   ],
   "source": [
    "data"
   ]
  },
  {
   "cell_type": "code",
   "execution_count": 10,
   "id": "d0372b32",
   "metadata": {},
   "outputs": [
    {
     "data": {
      "text/plain": [
       "P    61632\n",
       "J    44435\n",
       "Name: plan, dtype: int64"
      ]
     },
     "execution_count": 10,
     "metadata": {},
     "output_type": "execute_result"
    }
   ],
   "source": [
    "data['energy'].value_counts() # I : 80677, E : 25390\n",
    "data['recognize'].value_counts() # N : 96866, S : 9201\n",
    "data['judgment'].value_counts() # T : 69203, F : 36864\n",
    "data['plan'].value_counts() # P : 61632, J : 44435\n",
    "\n",
    "# N or S 의 데이터가 10 대1로 비대칭임\n",
    "# 그다음순으로 I or E가 3대1로 비대칭"
   ]
  },
  {
   "cell_type": "code",
   "execution_count": 11,
   "id": "691cd3eb",
   "metadata": {},
   "outputs": [],
   "source": [
    "data['voca count']=data['posts'].apply(lambda x:x.split()).apply(lambda x:len(x))"
   ]
  },
  {
   "cell_type": "code",
   "execution_count": 12,
   "id": "a1baf967",
   "metadata": {},
   "outputs": [
    {
     "data": {
      "text/plain": [
       "<AxesSubplot:xlabel='voca count', ylabel='Count'>"
      ]
     },
     "execution_count": 12,
     "metadata": {},
     "output_type": "execute_result"
    },
    {
     "data": {
      "image/png": "[encoded data removed]",
      "text/plain": [
       "<Figure size 432x288 with 1 Axes>"
      ]
     },
     "metadata": {
      "needs_background": "light"
     },
     "output_type": "display_data"
    }
   ],
   "source": [
    "sns.histplot(data['voca count'])"
   ]
  },
  {
   "cell_type": "code",
   "execution_count": 13,
   "id": "42f5419c",
   "metadata": {},
   "outputs": [
    {
     "data": {
      "text/plain": [
       "count    106067.000000\n",
       "mean        500.019818\n",
       "std           1.209997\n",
       "min         479.000000\n",
       "25%         500.000000\n",
       "50%         500.000000\n",
       "75%         500.000000\n",
       "max         527.000000\n",
       "Name: voca count, dtype: float64"
      ]
     },
     "execution_count": 13,
     "metadata": {},
     "output_type": "execute_result"
    }
   ],
   "source": [
    "data['voca count'].describe()"
   ]
  },
  {
   "cell_type": "code",
   "execution_count": null,
   "id": "44a7db77",
   "metadata": {},
   "outputs": [],
   "source": []
  },
  {
   "cell_type": "code",
   "execution_count": 14,
   "id": "220fe86a",
   "metadata": {},
   "outputs": [],
   "source": [
    "# 단어들 토큰화\n",
    "# 불용어 제거"
   ]
  },
  {
   "cell_type": "code",
   "execution_count": 15,
   "id": "7a00443c",
   "metadata": {},
   "outputs": [],
   "source": [
    "import nltk\n",
    "from nltk.corpus import stopwords # 불용어 제거\n",
    "from nltk.tokenize import word_tokenize # 단어들 토큰화"
   ]
  },
  {
   "cell_type": "code",
   "execution_count": 16,
   "id": "e82d8314",
   "metadata": {},
   "outputs": [],
   "source": [
    "import re"
   ]
  },
  {
   "cell_type": "code",
   "execution_count": 17,
   "id": "55c9f3b0",
   "metadata": {},
   "outputs": [],
   "source": [
    "# 길이가 1~2인 단어들을 정규 표현식을 이용하여 삭제\n",
    "shortword = re.compile(r'\\W*\\b\\w{1,2}\\b')\n",
    "def delete_shortword(words):\n",
    "    return shortword.sub('', words)"
   ]
  },
  {
   "cell_type": "code",
   "execution_count": 18,
   "id": "75aa045f",
   "metadata": {},
   "outputs": [],
   "source": [
    "data['posts']=data['posts'].apply(lambda x : delete_shortword(x))"
   ]
  },
  {
   "cell_type": "code",
   "execution_count": 19,
   "id": "80be1d94",
   "metadata": {},
   "outputs": [],
   "source": [
    "data['tokenization']=data['posts'].apply(lambda x:word_tokenize(x))"
   ]
  },
  {
   "cell_type": "code",
   "execution_count": 20,
   "id": "de4a1e5c",
   "metadata": {},
   "outputs": [],
   "source": [
    "# 불용어 추가"
   ]
  },
  {
   "cell_type": "code",
   "execution_count": 21,
   "id": "cad0f35b",
   "metadata": {},
   "outputs": [],
   "source": [
    "stop = stopwords.words('english') # 불용어\n",
    "# stop.extend(['intj','entj','istj','estj','infj','enfj','isfj','esfj','intp','entp','istp','estp','infp','enfp','isfp','esfp'])\n",
    "stop.extend(['smv','iii','ouiiiiiiiiiiiiiiiiiiiiiiiiii','liiiiiike','boiiii'])"
   ]
  },
  {
   "cell_type": "code",
   "execution_count": 22,
   "id": "10f9d672",
   "metadata": {},
   "outputs": [],
   "source": [
    "data['tokenization'] = data['tokenization'].apply(lambda x: [item for item in x if item not in stop])"
   ]
  },
  {
   "cell_type": "code",
   "execution_count": 23,
   "id": "c6784d59",
   "metadata": {},
   "outputs": [],
   "source": [
    "def list2str(words):\n",
    "    return ' '.join(words)"
   ]
  },
  {
   "cell_type": "code",
   "execution_count": 24,
   "id": "f8929b22",
   "metadata": {},
   "outputs": [],
   "source": [
    "data['clean posts'] = data['tokenization'].apply(list2str)"
   ]
  },
  {
   "cell_type": "code",
   "execution_count": 25,
   "id": "b6b2dac4",
   "metadata": {},
   "outputs": [
    {
     "data": {
      "text/html": [
       "<div>\n",
       "<style scoped>\n",
       "    .dataframe tbody tr th:only-of-type {\n",
       "        vertical-align: middle;\n",
       "    }\n",
       "\n",
       "    .dataframe tbody tr th {\n",
       "        vertical-align: top;\n",
       "    }\n",
       "\n",
       "    .dataframe thead th {\n",
       "        text-align: right;\n",
       "    }\n",
       "</style>\n",
       "<table border=\"1\" class=\"dataframe\">\n",
       "  <thead>\n",
       "    <tr style=\"text-align: right;\">\n",
       "      <th></th>\n",
       "      <th>posts</th>\n",
       "      <th>type</th>\n",
       "      <th>energy</th>\n",
       "      <th>recognize</th>\n",
       "      <th>judgment</th>\n",
       "      <th>plan</th>\n",
       "      <th>voca count</th>\n",
       "      <th>tokenization</th>\n",
       "      <th>clean posts</th>\n",
       "    </tr>\n",
       "  </thead>\n",
       "  <tbody>\n",
       "    <tr>\n",
       "      <th>0</th>\n",
       "      <td>know intj tool use interaction people excuse a...</td>\n",
       "      <td>INTJ</td>\n",
       "      <td>I</td>\n",
       "      <td>N</td>\n",
       "      <td>T</td>\n",
       "      <td>J</td>\n",
       "      <td>501</td>\n",
       "      <td>[know, intj, tool, use, interaction, people, e...</td>\n",
       "      <td>know intj tool use interaction people excuse a...</td>\n",
       "    </tr>\n",
       "    <tr>\n",
       "      <th>1</th>\n",
       "      <td>rap music ehh opp yeah know valid well know fa...</td>\n",
       "      <td>INTJ</td>\n",
       "      <td>I</td>\n",
       "      <td>N</td>\n",
       "      <td>T</td>\n",
       "      <td>J</td>\n",
       "      <td>501</td>\n",
       "      <td>[rap, music, ehh, opp, yeah, know, valid, well...</td>\n",
       "      <td>rap music ehh opp yeah know valid well know fa...</td>\n",
       "    </tr>\n",
       "    <tr>\n",
       "      <th>2</th>\n",
       "      <td>preferably low except wew lad video mind good ...</td>\n",
       "      <td>INTJ</td>\n",
       "      <td>I</td>\n",
       "      <td>N</td>\n",
       "      <td>T</td>\n",
       "      <td>J</td>\n",
       "      <td>501</td>\n",
       "      <td>[preferably, low, except, wew, lad, video, min...</td>\n",
       "      <td>preferably low except wew lad video mind good ...</td>\n",
       "    </tr>\n",
       "    <tr>\n",
       "      <th>3</th>\n",
       "      <td>drink like wish could drink red wine give head...</td>\n",
       "      <td>INTJ</td>\n",
       "      <td>I</td>\n",
       "      <td>N</td>\n",
       "      <td>T</td>\n",
       "      <td>J</td>\n",
       "      <td>501</td>\n",
       "      <td>[drink, like, wish, could, drink, red, wine, g...</td>\n",
       "      <td>drink like wish could drink red wine give head...</td>\n",
       "    </tr>\n",
       "    <tr>\n",
       "      <th>4</th>\n",
       "      <td>space program bad deal meing freelance max see...</td>\n",
       "      <td>INTJ</td>\n",
       "      <td>I</td>\n",
       "      <td>N</td>\n",
       "      <td>T</td>\n",
       "      <td>J</td>\n",
       "      <td>501</td>\n",
       "      <td>[space, program, bad, deal, meing, freelance, ...</td>\n",
       "      <td>space program bad deal meing freelance max see...</td>\n",
       "    </tr>\n",
       "    <tr>\n",
       "      <th>...</th>\n",
       "      <td>...</td>\n",
       "      <td>...</td>\n",
       "      <td>...</td>\n",
       "      <td>...</td>\n",
       "      <td>...</td>\n",
       "      <td>...</td>\n",
       "      <td>...</td>\n",
       "      <td>...</td>\n",
       "      <td>...</td>\n",
       "    </tr>\n",
       "    <tr>\n",
       "      <th>106062</th>\n",
       "      <td>stay frustrate world life want take long nap w...</td>\n",
       "      <td>INFP</td>\n",
       "      <td>I</td>\n",
       "      <td>N</td>\n",
       "      <td>F</td>\n",
       "      <td>P</td>\n",
       "      <td>499</td>\n",
       "      <td>[stay, frustrate, world, life, want, take, lon...</td>\n",
       "      <td>stay frustrate world life want take long nap w...</td>\n",
       "    </tr>\n",
       "    <tr>\n",
       "      <th>106063</th>\n",
       "      <td>fizzle around time mention sure mistake thing ...</td>\n",
       "      <td>INFP</td>\n",
       "      <td>I</td>\n",
       "      <td>N</td>\n",
       "      <td>F</td>\n",
       "      <td>P</td>\n",
       "      <td>499</td>\n",
       "      <td>[fizzle, around, time, mention, sure, mistake,...</td>\n",
       "      <td>fizzle around time mention sure mistake thing ...</td>\n",
       "    </tr>\n",
       "    <tr>\n",
       "      <th>106064</th>\n",
       "      <td>schedule modify hey intp strong wing understan...</td>\n",
       "      <td>INFP</td>\n",
       "      <td>I</td>\n",
       "      <td>N</td>\n",
       "      <td>F</td>\n",
       "      <td>P</td>\n",
       "      <td>499</td>\n",
       "      <td>[schedule, modify, hey, intp, strong, wing, un...</td>\n",
       "      <td>schedule modify hey intp strong wing understan...</td>\n",
       "    </tr>\n",
       "    <tr>\n",
       "      <th>106065</th>\n",
       "      <td>enfj since january busy schedule able spend li...</td>\n",
       "      <td>INFP</td>\n",
       "      <td>I</td>\n",
       "      <td>N</td>\n",
       "      <td>F</td>\n",
       "      <td>P</td>\n",
       "      <td>499</td>\n",
       "      <td>[enfj, since, january, busy, schedule, able, s...</td>\n",
       "      <td>enfj since january busy schedule able spend li...</td>\n",
       "    </tr>\n",
       "    <tr>\n",
       "      <th>106066</th>\n",
       "      <td>feel like men good problem tell parent want te...</td>\n",
       "      <td>INFP</td>\n",
       "      <td>I</td>\n",
       "      <td>N</td>\n",
       "      <td>F</td>\n",
       "      <td>P</td>\n",
       "      <td>499</td>\n",
       "      <td>[feel, like, men, good, problem, tell, parent,...</td>\n",
       "      <td>feel like men good problem tell parent want te...</td>\n",
       "    </tr>\n",
       "  </tbody>\n",
       "</table>\n",
       "<p>106067 rows × 9 columns</p>\n",
       "</div>"
      ],
      "text/plain": [
       "                                                    posts  type energy  \\\n",
       "0       know intj tool use interaction people excuse a...  INTJ      I   \n",
       "1       rap music ehh opp yeah know valid well know fa...  INTJ      I   \n",
       "2       preferably low except wew lad video mind good ...  INTJ      I   \n",
       "3       drink like wish could drink red wine give head...  INTJ      I   \n",
       "4       space program bad deal meing freelance max see...  INTJ      I   \n",
       "...                                                   ...   ...    ...   \n",
       "106062  stay frustrate world life want take long nap w...  INFP      I   \n",
       "106063  fizzle around time mention sure mistake thing ...  INFP      I   \n",
       "106064  schedule modify hey intp strong wing understan...  INFP      I   \n",
       "106065  enfj since january busy schedule able spend li...  INFP      I   \n",
       "106066  feel like men good problem tell parent want te...  INFP      I   \n",
       "\n",
       "       recognize judgment plan  voca count  \\\n",
       "0              N        T    J         501   \n",
       "1              N        T    J         501   \n",
       "2              N        T    J         501   \n",
       "3              N        T    J         501   \n",
       "4              N        T    J         501   \n",
       "...          ...      ...  ...         ...   \n",
       "106062         N        F    P         499   \n",
       "106063         N        F    P         499   \n",
       "106064         N        F    P         499   \n",
       "106065         N        F    P         499   \n",
       "106066         N        F    P         499   \n",
       "\n",
       "                                             tokenization  \\\n",
       "0       [know, intj, tool, use, interaction, people, e...   \n",
       "1       [rap, music, ehh, opp, yeah, know, valid, well...   \n",
       "2       [preferably, low, except, wew, lad, video, min...   \n",
       "3       [drink, like, wish, could, drink, red, wine, g...   \n",
       "4       [space, program, bad, deal, meing, freelance, ...   \n",
       "...                                                   ...   \n",
       "106062  [stay, frustrate, world, life, want, take, lon...   \n",
       "106063  [fizzle, around, time, mention, sure, mistake,...   \n",
       "106064  [schedule, modify, hey, intp, strong, wing, un...   \n",
       "106065  [enfj, since, january, busy, schedule, able, s...   \n",
       "106066  [feel, like, men, good, problem, tell, parent,...   \n",
       "\n",
       "                                              clean posts  \n",
       "0       know intj tool use interaction people excuse a...  \n",
       "1       rap music ehh opp yeah know valid well know fa...  \n",
       "2       preferably low except wew lad video mind good ...  \n",
       "3       drink like wish could drink red wine give head...  \n",
       "4       space program bad deal meing freelance max see...  \n",
       "...                                                   ...  \n",
       "106062  stay frustrate world life want take long nap w...  \n",
       "106063  fizzle around time mention sure mistake thing ...  \n",
       "106064  schedule modify hey intp strong wing understan...  \n",
       "106065  enfj since january busy schedule able spend li...  \n",
       "106066  feel like men good problem tell parent want te...  \n",
       "\n",
       "[106067 rows x 9 columns]"
      ]
     },
     "execution_count": 25,
     "metadata": {},
     "output_type": "execute_result"
    }
   ],
   "source": [
    "data"
   ]
  },
  {
   "cell_type": "code",
   "execution_count": 26,
   "id": "02e01ef7",
   "metadata": {},
   "outputs": [],
   "source": [
    "data.drop(['posts', 'voca count','tokenization'], axis=1, inplace=True)\n",
    "# 열 정리"
   ]
  },
  {
   "cell_type": "code",
   "execution_count": null,
   "id": "14ed3e41",
   "metadata": {},
   "outputs": [],
   "source": []
  },
  {
   "cell_type": "markdown",
   "id": "0099325e",
   "metadata": {},
   "source": [
    "# Model (데이터셋 분류 체크)\n",
    "#### TFIDF, SVC 활용"
   ]
  },
  {
   "cell_type": "code",
   "execution_count": 27,
   "id": "605beebc",
   "metadata": {},
   "outputs": [],
   "source": [
    "X = data['clean posts'] # features\n",
    "y = data['type']  # labels\n",
    "X_train, X_test, y_train, y_test = train_test_split(X, y, test_size=0.2, random_state=2022)"
   ]
  },
  {
   "cell_type": "code",
   "execution_count": 28,
   "id": "baa6f570",
   "metadata": {},
   "outputs": [
    {
     "data": {
      "text/plain": [
       "0         know intj tool use interaction people excuse a...\n",
       "1         rap music ehh opp yeah know valid well know fa...\n",
       "2         preferably low except wew lad video mind good ...\n",
       "3         drink like wish could drink red wine give head...\n",
       "4         space program bad deal meing freelance max see...\n",
       "                                ...                        \n",
       "106062    stay frustrate world life want take long nap w...\n",
       "106063    fizzle around time mention sure mistake thing ...\n",
       "106064    schedule modify hey intp strong wing understan...\n",
       "106065    enfj since january busy schedule able spend li...\n",
       "106066    feel like men good problem tell parent want te...\n",
       "Name: clean posts, Length: 106067, dtype: object"
      ]
     },
     "execution_count": 28,
     "metadata": {},
     "output_type": "execute_result"
    }
   ],
   "source": [
    "X"
   ]
  },
  {
   "cell_type": "code",
   "execution_count": 29,
   "id": "53a7d280",
   "metadata": {},
   "outputs": [],
   "source": [
    "# 구현 방법1"
   ]
  },
  {
   "cell_type": "code",
   "execution_count": 30,
   "id": "4a9de1c4",
   "metadata": {},
   "outputs": [],
   "source": [
    "tfidf_vectorizer = TfidfVectorizer()\n",
    "X_train_tfidf = tfidf_vectorizer.fit_transform(X_train)"
   ]
  },
  {
   "cell_type": "code",
   "execution_count": 31,
   "id": "f3d11ee3",
   "metadata": {},
   "outputs": [],
   "source": [
    "X_test_tfidf = tfidf_vectorizer.transform(X_test)"
   ]
  },
  {
   "cell_type": "code",
   "execution_count": 32,
   "id": "d87ea860",
   "metadata": {},
   "outputs": [],
   "source": [
    "# tfidf_vectorizer.vocabulary_ # TF-IDF에 사용된 단어사전 체크"
   ]
  },
  {
   "cell_type": "code",
   "execution_count": 33,
   "id": "f911e7de",
   "metadata": {},
   "outputs": [
    {
     "data": {
      "text/plain": [
       "LinearSVC()"
      ]
     },
     "execution_count": 33,
     "metadata": {},
     "output_type": "execute_result"
    }
   ],
   "source": [
    "clf = LinearSVC()\n",
    "clf.fit(X_train_tfidf, y_train)"
   ]
  },
  {
   "cell_type": "code",
   "execution_count": 34,
   "id": "d08bf8c8",
   "metadata": {},
   "outputs": [],
   "source": [
    "y_pred=clf.predict(X_test_tfidf)"
   ]
  },
  {
   "cell_type": "code",
   "execution_count": 35,
   "id": "a0926679",
   "metadata": {},
   "outputs": [
    {
     "name": "stdout",
     "output_type": "stream",
     "text": [
      "분류 정확도 : 83.14 %\n"
     ]
    }
   ],
   "source": [
    "acc=accuracy_score(y_test, y_pred)*100\n",
    "print(\"분류 정확도 : {:.2f} %\".format(acc))"
   ]
  },
  {
   "cell_type": "code",
   "execution_count": 36,
   "id": "3967f75e",
   "metadata": {},
   "outputs": [],
   "source": [
    "# 구현 방법2 (Pipeline 함수 이용)"
   ]
  },
  {
   "cell_type": "code",
   "execution_count": 37,
   "id": "d643932c",
   "metadata": {},
   "outputs": [
    {
     "data": {
      "text/plain": [
       "Pipeline(steps=[('tfidf', TfidfVectorizer()), ('clf', LinearSVC())])"
      ]
     },
     "execution_count": 37,
     "metadata": {},
     "output_type": "execute_result"
    }
   ],
   "source": [
    "text_clf = Pipeline([('tfidf',TfidfVectorizer()),('clf',LinearSVC())])\n",
    "text_clf.fit(X_train, y_train)"
   ]
  },
  {
   "cell_type": "code",
   "execution_count": 38,
   "id": "44345b1d",
   "metadata": {},
   "outputs": [],
   "source": [
    "y_pred2 = text_clf.predict(X_test)"
   ]
  },
  {
   "cell_type": "code",
   "execution_count": 39,
   "id": "dbba2ce5",
   "metadata": {},
   "outputs": [
    {
     "name": "stdout",
     "output_type": "stream",
     "text": [
      "              precision    recall  f1-score   support\n",
      "\n",
      "        ENFJ       0.87      0.68      0.76       311\n",
      "        ENFP       0.82      0.75      0.79      1224\n",
      "        ENTJ       0.90      0.80      0.85       592\n",
      "        ENTP       0.83      0.81      0.82      2304\n",
      "        ESFJ       0.75      0.38      0.50        32\n",
      "        ESFP       0.82      0.43      0.57        74\n",
      "        ESTJ       0.91      0.80      0.85        96\n",
      "        ESTP       0.95      0.90      0.92       407\n",
      "        INFJ       0.82      0.85      0.83      2976\n",
      "        INFP       0.79      0.83      0.81      2373\n",
      "        INTJ       0.83      0.86      0.85      4445\n",
      "        INTP       0.84      0.87      0.85      5093\n",
      "        ISFJ       0.76      0.56      0.64       122\n",
      "        ISFP       0.74      0.55      0.63       183\n",
      "        ISTJ       0.86      0.65      0.74       242\n",
      "        ISTP       0.90      0.80      0.84       740\n",
      "\n",
      "    accuracy                           0.83     21214\n",
      "   macro avg       0.84      0.72      0.77     21214\n",
      "weighted avg       0.83      0.83      0.83     21214\n",
      "\n"
     ]
    }
   ],
   "source": [
    "print(classification_report(y_test, y_pred2))"
   ]
  },
  {
   "cell_type": "code",
   "execution_count": 40,
   "id": "56fa4e02",
   "metadata": {},
   "outputs": [
    {
     "name": "stdout",
     "output_type": "stream",
     "text": [
      "분류 정확도 : 83.14 %\n"
     ]
    }
   ],
   "source": [
    "acc2=accuracy_score(y_test, y_pred2)*100\n",
    "print(\"분류 정확도 : {:.2f} %\".format(acc2))"
   ]
  },
  {
   "cell_type": "code",
   "execution_count": 41,
   "id": "5238f0fa",
   "metadata": {},
   "outputs": [],
   "source": [
    "# 참고 : 언급된 단어 중 MBTI를 지칭하는('intj','entj','istj','estj'...) 를 삭제해서 분류하면\n",
    "# 분류 정확도가 73%로 떨어짐"
   ]
  },
  {
   "cell_type": "code",
   "execution_count": null,
   "id": "74782980",
   "metadata": {},
   "outputs": [],
   "source": []
  }
 ],
 "metadata": {
  "kernelspec": {
   "display_name": "Python 3 (ipykernel)",
   "language": "python",
   "name": "python3"
  },
  "language_info": {
   "codemirror_mode": {
    "name": "ipython",
    "version": 3
   },
   "file_extension": ".py",
   "mimetype": "text/x-python",
   "name": "python",
   "nbconvert_exporter": "python",
   "pygments_lexer": "ipython3",
   "version": "3.9.12"
  }
 },
 "nbformat": 4,
 "nbformat_minor": 5
}
