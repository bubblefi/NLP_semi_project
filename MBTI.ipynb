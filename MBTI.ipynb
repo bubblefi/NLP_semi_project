{
 "cells": [
  {
   "cell_type": "markdown",
   "id": "10e9b8ac",
   "metadata": {},
   "source": [
    "provided a DATASET of ~1.7M records of posts collected from Reddit using Google big query."
   ]
  },
  {
   "cell_type": "code",
   "execution_count": 4,
   "id": "c8278d3f",
   "metadata": {},
   "outputs": [],
   "source": [
    "import pandas as pd\n",
    "import numpy as np\n",
    "import matplotlib.pyplot as plt\n",
    "import seaborn as sns"
   ]
  },
  {
   "cell_type": "code",
   "execution_count": 5,
   "id": "492e43bb",
   "metadata": {},
   "outputs": [],
   "source": [
    "from sklearn.feature_extraction.text import TfidfVectorizer\n",
    "from sklearn.feature_extraction.text import CountVectorizer"
   ]
  },
  {
   "cell_type": "code",
   "execution_count": null,
   "id": "173a2ed4",
   "metadata": {},
   "outputs": [],
   "source": []
  },
  {
   "cell_type": "code",
   "execution_count": 7,
   "id": "801578b9",
   "metadata": {},
   "outputs": [],
   "source": [
    "data=pd.read_csv(\"MBTI 500.csv\")\n",
    "raw_data=pd.read_csv(\"mbti_full_pull.csv\")"
   ]
  },
  {
   "cell_type": "code",
   "execution_count": 8,
   "id": "adf9ef4b",
   "metadata": {},
   "outputs": [
    {
     "data": {
      "text/html": [
       "<div>\n",
       "<style scoped>\n",
       "    .dataframe tbody tr th:only-of-type {\n",
       "        vertical-align: middle;\n",
       "    }\n",
       "\n",
       "    .dataframe tbody tr th {\n",
       "        vertical-align: top;\n",
       "    }\n",
       "\n",
       "    .dataframe thead th {\n",
       "        text-align: right;\n",
       "    }\n",
       "</style>\n",
       "<table border=\"1\" class=\"dataframe\">\n",
       "  <thead>\n",
       "    <tr style=\"text-align: right;\">\n",
       "      <th></th>\n",
       "      <th>author_flair_text</th>\n",
       "      <th>body</th>\n",
       "      <th>subreddit</th>\n",
       "    </tr>\n",
       "  </thead>\n",
       "  <tbody>\n",
       "    <tr>\n",
       "      <th>0</th>\n",
       "      <td>INTJ</td>\n",
       "      <td>Knowing you're in INTJ is a tool for you to us...</td>\n",
       "      <td>intj</td>\n",
       "    </tr>\n",
       "    <tr>\n",
       "      <th>1</th>\n",
       "      <td>INTJ</td>\n",
       "      <td>You are truly an enlightened mastermind.</td>\n",
       "      <td>intj</td>\n",
       "    </tr>\n",
       "    <tr>\n",
       "      <th>2</th>\n",
       "      <td>INFJ, 26F</td>\n",
       "      <td>You should :) it will help if you have a down ...</td>\n",
       "      <td>infj</td>\n",
       "    </tr>\n",
       "    <tr>\n",
       "      <th>3</th>\n",
       "      <td>INTP</td>\n",
       "      <td>I watch a bit of everything (including hentai)...</td>\n",
       "      <td>INTP</td>\n",
       "    </tr>\n",
       "    <tr>\n",
       "      <th>4</th>\n",
       "      <td>INTJ</td>\n",
       "      <td>I don't know if I would count this as a pet pe...</td>\n",
       "      <td>intj</td>\n",
       "    </tr>\n",
       "    <tr>\n",
       "      <th>...</th>\n",
       "      <td>...</td>\n",
       "      <td>...</td>\n",
       "      <td>...</td>\n",
       "    </tr>\n",
       "    <tr>\n",
       "      <th>1794011</th>\n",
       "      <td>INTP</td>\n",
       "      <td>Remind me! 40 hours</td>\n",
       "      <td>INTP</td>\n",
       "    </tr>\n",
       "    <tr>\n",
       "      <th>1794012</th>\n",
       "      <td>INTJ</td>\n",
       "      <td>We are seeing the start of a process that is g...</td>\n",
       "      <td>intj</td>\n",
       "    </tr>\n",
       "    <tr>\n",
       "      <th>1794013</th>\n",
       "      <td>INTJ</td>\n",
       "      <td>[NSFDL. I cry laughing at this every single ti...</td>\n",
       "      <td>intj</td>\n",
       "    </tr>\n",
       "    <tr>\n",
       "      <th>1794014</th>\n",
       "      <td>INFJ</td>\n",
       "      <td>Ravenclaw!</td>\n",
       "      <td>infj</td>\n",
       "    </tr>\n",
       "    <tr>\n",
       "      <th>1794015</th>\n",
       "      <td>INTP</td>\n",
       "      <td>I struggle massive with focusing, I would love...</td>\n",
       "      <td>INTP</td>\n",
       "    </tr>\n",
       "  </tbody>\n",
       "</table>\n",
       "<p>1794016 rows × 3 columns</p>\n",
       "</div>"
      ],
      "text/plain": [
       "        author_flair_text                                               body  \\\n",
       "0                    INTJ  Knowing you're in INTJ is a tool for you to us...   \n",
       "1                    INTJ           You are truly an enlightened mastermind.   \n",
       "2               INFJ, 26F  You should :) it will help if you have a down ...   \n",
       "3                    INTP  I watch a bit of everything (including hentai)...   \n",
       "4                    INTJ  I don't know if I would count this as a pet pe...   \n",
       "...                   ...                                                ...   \n",
       "1794011              INTP                                Remind me! 40 hours   \n",
       "1794012              INTJ  We are seeing the start of a process that is g...   \n",
       "1794013              INTJ  [NSFDL. I cry laughing at this every single ti...   \n",
       "1794014              INFJ                                         Ravenclaw!   \n",
       "1794015              INTP  I struggle massive with focusing, I would love...   \n",
       "\n",
       "        subreddit  \n",
       "0            intj  \n",
       "1            intj  \n",
       "2            infj  \n",
       "3            INTP  \n",
       "4            intj  \n",
       "...           ...  \n",
       "1794011      INTP  \n",
       "1794012      intj  \n",
       "1794013      intj  \n",
       "1794014      infj  \n",
       "1794015      INTP  \n",
       "\n",
       "[1794016 rows x 3 columns]"
      ]
     },
     "execution_count": 8,
     "metadata": {},
     "output_type": "execute_result"
    }
   ],
   "source": [
    "raw_data"
   ]
  },
  {
   "cell_type": "code",
   "execution_count": 9,
   "id": "5e6a777c",
   "metadata": {},
   "outputs": [],
   "source": [
    "# raw_data['subreddit'].apply(lambda x:x.upper()).value_counts()"
   ]
  },
  {
   "cell_type": "code",
   "execution_count": 10,
   "id": "6833d549",
   "metadata": {},
   "outputs": [
    {
     "data": {
      "text/html": [
       "<div>\n",
       "<style scoped>\n",
       "    .dataframe tbody tr th:only-of-type {\n",
       "        vertical-align: middle;\n",
       "    }\n",
       "\n",
       "    .dataframe tbody tr th {\n",
       "        vertical-align: top;\n",
       "    }\n",
       "\n",
       "    .dataframe thead th {\n",
       "        text-align: right;\n",
       "    }\n",
       "</style>\n",
       "<table border=\"1\" class=\"dataframe\">\n",
       "  <thead>\n",
       "    <tr style=\"text-align: right;\">\n",
       "      <th></th>\n",
       "      <th>posts</th>\n",
       "      <th>type</th>\n",
       "    </tr>\n",
       "  </thead>\n",
       "  <tbody>\n",
       "    <tr>\n",
       "      <th>0</th>\n",
       "      <td>know intj tool use interaction people excuse a...</td>\n",
       "      <td>INTJ</td>\n",
       "    </tr>\n",
       "    <tr>\n",
       "      <th>1</th>\n",
       "      <td>rap music ehh opp yeah know valid well know fa...</td>\n",
       "      <td>INTJ</td>\n",
       "    </tr>\n",
       "    <tr>\n",
       "      <th>2</th>\n",
       "      <td>preferably p hd low except wew lad video p min...</td>\n",
       "      <td>INTJ</td>\n",
       "    </tr>\n",
       "    <tr>\n",
       "      <th>3</th>\n",
       "      <td>drink like wish could drink red wine give head...</td>\n",
       "      <td>INTJ</td>\n",
       "    </tr>\n",
       "    <tr>\n",
       "      <th>4</th>\n",
       "      <td>space program ah bad deal meing freelance max ...</td>\n",
       "      <td>INTJ</td>\n",
       "    </tr>\n",
       "    <tr>\n",
       "      <th>...</th>\n",
       "      <td>...</td>\n",
       "      <td>...</td>\n",
       "    </tr>\n",
       "    <tr>\n",
       "      <th>106062</th>\n",
       "      <td>stay frustrate world life want take long nap w...</td>\n",
       "      <td>INFP</td>\n",
       "    </tr>\n",
       "    <tr>\n",
       "      <th>106063</th>\n",
       "      <td>fizzle around time mention sure mistake thing ...</td>\n",
       "      <td>INFP</td>\n",
       "    </tr>\n",
       "    <tr>\n",
       "      <th>106064</th>\n",
       "      <td>schedule modify hey w intp strong wing underst...</td>\n",
       "      <td>INFP</td>\n",
       "    </tr>\n",
       "    <tr>\n",
       "      <th>106065</th>\n",
       "      <td>enfj since january busy schedule able spend li...</td>\n",
       "      <td>INFP</td>\n",
       "    </tr>\n",
       "    <tr>\n",
       "      <th>106066</th>\n",
       "      <td>feel like men good problem tell parent want te...</td>\n",
       "      <td>INFP</td>\n",
       "    </tr>\n",
       "  </tbody>\n",
       "</table>\n",
       "<p>106067 rows × 2 columns</p>\n",
       "</div>"
      ],
      "text/plain": [
       "                                                    posts  type\n",
       "0       know intj tool use interaction people excuse a...  INTJ\n",
       "1       rap music ehh opp yeah know valid well know fa...  INTJ\n",
       "2       preferably p hd low except wew lad video p min...  INTJ\n",
       "3       drink like wish could drink red wine give head...  INTJ\n",
       "4       space program ah bad deal meing freelance max ...  INTJ\n",
       "...                                                   ...   ...\n",
       "106062  stay frustrate world life want take long nap w...  INFP\n",
       "106063  fizzle around time mention sure mistake thing ...  INFP\n",
       "106064  schedule modify hey w intp strong wing underst...  INFP\n",
       "106065  enfj since january busy schedule able spend li...  INFP\n",
       "106066  feel like men good problem tell parent want te...  INFP\n",
       "\n",
       "[106067 rows x 2 columns]"
      ]
     },
     "execution_count": 10,
     "metadata": {},
     "output_type": "execute_result"
    }
   ],
   "source": [
    "data"
   ]
  },
  {
   "cell_type": "code",
   "execution_count": 11,
   "id": "fc4ce9c7",
   "metadata": {},
   "outputs": [
    {
     "data": {
      "text/plain": [
       "'would want farmer fe like force also want feel like dishonor legacy ancestor farmer time maybe best thing legacy remain farmer eternity maybe something good world buuut maybe maybe right first time idea make sense always contradict another thing people tell tell absolutely awful relationship department one ask advice see reason doubt entj iw ant tell im go feel like ill get dismiss want around problem severe depression moderate anxiety wan push away hurt put charade time shit weigh tell struggle think vague really engage dismissive like take seriously maybe struggle none u talk feel feel alone even surround people love hurt sometimes feel like im pussy reason feel way shitty hate want feel normal fuck hard hard year life far im fine financially sersiouly know wtf im suppose life deal self loathe anxious depress bullshit make exhaust hard think straight guess know big problem able talk feel even pen paper txt yes long time time stress talk whoever goofy self work sometimes whenever actually try fuck tank lol super attract feel spark come reason istj use shoot idea many thing go think need get spill info go life mind like pull teeth save energy bc sign poor communicator poor communication want long term relationship intend go somewhere serious pretty much relate every month retake test see still infp come term infp honestly think get short end stick per say read infp lose personality aspect try hard accept would crush usually start fall back bad habit also unmotivated uninspired mood believe gotta simply big deal sex make difference admit time act like sb else ok good luck university honestly take test create least character massive inter dimensional story project course could forget list important mention character take several identites throughout life example jenn heir weather end fall rift two world take identity jennifer hero aerokinetic power end find lose society leader brainwash citizen become sapphira lose soul place world eventually grow know elder live survive final war basically four character price one feel like miss sound great friend isfp say like overwhelm experience think person time purposefully commit relationship complicate though bisexual person man tell want settle man way describe sound pretty great maybe bui experience nothing case yes time constantly wish could start even someone else scold weak want escape totally spot many experience last couple year finally feel like hit late bloom early adu stage speak infps young infps hang thank explanation advice really help appreciate probably tell happen understand thank awesome thank new layout bite weird look like content fuck u government honestly expect get away use divine name earthly military agenda attribute divine name terrorist levant fuck like plague would also say relate te know im infp amp would probably get frustrate haha female ahough tone post sound like load barnacle open learn attraction since always area feel fundamentally understand good feel feel proud dabble stuff oouu keep busy creative outlet yeahh totally see definitely right everyone experience creative block go write poetry draw paint try'"
      ]
     },
     "execution_count": 11,
     "metadata": {},
     "output_type": "execute_result"
    }
   ],
   "source": [
    "data['posts'][100000]"
   ]
  },
  {
   "cell_type": "code",
   "execution_count": null,
   "id": "7e73e96c",
   "metadata": {},
   "outputs": [],
   "source": []
  },
  {
   "cell_type": "code",
   "execution_count": 12,
   "id": "04ac0ce5",
   "metadata": {},
   "outputs": [
    {
     "data": {
      "text/plain": [
       "<AxesSubplot:>"
      ]
     },
     "execution_count": 12,
     "metadata": {},
     "output_type": "execute_result"
    },
    {
     "data": {
      "image/png": "[encoded data removed]",
      "text/plain": [
       "<Figure size 432x288 with 1 Axes>"
      ]
     },
     "metadata": {
      "needs_background": "light"
     },
     "output_type": "display_data"
    }
   ],
   "source": [
    "data['type'].value_counts().plot(kind='bar')"
   ]
  },
  {
   "cell_type": "code",
   "execution_count": 13,
   "id": "d8046ab7",
   "metadata": {},
   "outputs": [
    {
     "data": {
      "text/plain": [
       "INTP    24961\n",
       "INTJ    22427\n",
       "INFJ    14963\n",
       "INFP    12134\n",
       "ENTP    11725\n",
       "ENFP     6167\n",
       "ISTP     3424\n",
       "ENTJ     2955\n",
       "ESTP     1986\n",
       "ENFJ     1534\n",
       "ISTJ     1243\n",
       "ISFP      875\n",
       "ISFJ      650\n",
       "ESTJ      482\n",
       "ESFP      360\n",
       "ESFJ      181\n",
       "Name: type, dtype: int64"
      ]
     },
     "execution_count": 13,
     "metadata": {},
     "output_type": "execute_result"
    }
   ],
   "source": [
    "data['type'].value_counts() # INTP 24961, ESFJ 181 "
   ]
  },
  {
   "cell_type": "code",
   "execution_count": 15,
   "id": "0e965c4c",
   "metadata": {},
   "outputs": [],
   "source": [
    "data['energy']=data['type'].apply(lambda x:x[0])\n",
    "data['recognize']=data['type'].apply(lambda x:x[1])\n",
    "data['judgment']=data['type'].apply(lambda x:x[2])\n",
    "data['plan']=data['type'].apply(lambda x:x[3])"
   ]
  },
  {
   "cell_type": "code",
   "execution_count": 16,
   "id": "f11eca5c",
   "metadata": {},
   "outputs": [
    {
     "data": {
      "text/html": [
       "<div>\n",
       "<style scoped>\n",
       "    .dataframe tbody tr th:only-of-type {\n",
       "        vertical-align: middle;\n",
       "    }\n",
       "\n",
       "    .dataframe tbody tr th {\n",
       "        vertical-align: top;\n",
       "    }\n",
       "\n",
       "    .dataframe thead th {\n",
       "        text-align: right;\n",
       "    }\n",
       "</style>\n",
       "<table border=\"1\" class=\"dataframe\">\n",
       "  <thead>\n",
       "    <tr style=\"text-align: right;\">\n",
       "      <th></th>\n",
       "      <th>posts</th>\n",
       "      <th>type</th>\n",
       "      <th>energy</th>\n",
       "      <th>recognize</th>\n",
       "      <th>judgment</th>\n",
       "      <th>plan</th>\n",
       "    </tr>\n",
       "  </thead>\n",
       "  <tbody>\n",
       "    <tr>\n",
       "      <th>0</th>\n",
       "      <td>know intj tool use interaction people excuse a...</td>\n",
       "      <td>INTJ</td>\n",
       "      <td>I</td>\n",
       "      <td>N</td>\n",
       "      <td>T</td>\n",
       "      <td>J</td>\n",
       "    </tr>\n",
       "    <tr>\n",
       "      <th>1</th>\n",
       "      <td>rap music ehh opp yeah know valid well know fa...</td>\n",
       "      <td>INTJ</td>\n",
       "      <td>I</td>\n",
       "      <td>N</td>\n",
       "      <td>T</td>\n",
       "      <td>J</td>\n",
       "    </tr>\n",
       "    <tr>\n",
       "      <th>2</th>\n",
       "      <td>preferably p hd low except wew lad video p min...</td>\n",
       "      <td>INTJ</td>\n",
       "      <td>I</td>\n",
       "      <td>N</td>\n",
       "      <td>T</td>\n",
       "      <td>J</td>\n",
       "    </tr>\n",
       "    <tr>\n",
       "      <th>3</th>\n",
       "      <td>drink like wish could drink red wine give head...</td>\n",
       "      <td>INTJ</td>\n",
       "      <td>I</td>\n",
       "      <td>N</td>\n",
       "      <td>T</td>\n",
       "      <td>J</td>\n",
       "    </tr>\n",
       "    <tr>\n",
       "      <th>4</th>\n",
       "      <td>space program ah bad deal meing freelance max ...</td>\n",
       "      <td>INTJ</td>\n",
       "      <td>I</td>\n",
       "      <td>N</td>\n",
       "      <td>T</td>\n",
       "      <td>J</td>\n",
       "    </tr>\n",
       "    <tr>\n",
       "      <th>...</th>\n",
       "      <td>...</td>\n",
       "      <td>...</td>\n",
       "      <td>...</td>\n",
       "      <td>...</td>\n",
       "      <td>...</td>\n",
       "      <td>...</td>\n",
       "    </tr>\n",
       "    <tr>\n",
       "      <th>106062</th>\n",
       "      <td>stay frustrate world life want take long nap w...</td>\n",
       "      <td>INFP</td>\n",
       "      <td>I</td>\n",
       "      <td>N</td>\n",
       "      <td>F</td>\n",
       "      <td>P</td>\n",
       "    </tr>\n",
       "    <tr>\n",
       "      <th>106063</th>\n",
       "      <td>fizzle around time mention sure mistake thing ...</td>\n",
       "      <td>INFP</td>\n",
       "      <td>I</td>\n",
       "      <td>N</td>\n",
       "      <td>F</td>\n",
       "      <td>P</td>\n",
       "    </tr>\n",
       "    <tr>\n",
       "      <th>106064</th>\n",
       "      <td>schedule modify hey w intp strong wing underst...</td>\n",
       "      <td>INFP</td>\n",
       "      <td>I</td>\n",
       "      <td>N</td>\n",
       "      <td>F</td>\n",
       "      <td>P</td>\n",
       "    </tr>\n",
       "    <tr>\n",
       "      <th>106065</th>\n",
       "      <td>enfj since january busy schedule able spend li...</td>\n",
       "      <td>INFP</td>\n",
       "      <td>I</td>\n",
       "      <td>N</td>\n",
       "      <td>F</td>\n",
       "      <td>P</td>\n",
       "    </tr>\n",
       "    <tr>\n",
       "      <th>106066</th>\n",
       "      <td>feel like men good problem tell parent want te...</td>\n",
       "      <td>INFP</td>\n",
       "      <td>I</td>\n",
       "      <td>N</td>\n",
       "      <td>F</td>\n",
       "      <td>P</td>\n",
       "    </tr>\n",
       "  </tbody>\n",
       "</table>\n",
       "<p>106067 rows × 6 columns</p>\n",
       "</div>"
      ],
      "text/plain": [
       "                                                    posts  type energy  \\\n",
       "0       know intj tool use interaction people excuse a...  INTJ      I   \n",
       "1       rap music ehh opp yeah know valid well know fa...  INTJ      I   \n",
       "2       preferably p hd low except wew lad video p min...  INTJ      I   \n",
       "3       drink like wish could drink red wine give head...  INTJ      I   \n",
       "4       space program ah bad deal meing freelance max ...  INTJ      I   \n",
       "...                                                   ...   ...    ...   \n",
       "106062  stay frustrate world life want take long nap w...  INFP      I   \n",
       "106063  fizzle around time mention sure mistake thing ...  INFP      I   \n",
       "106064  schedule modify hey w intp strong wing underst...  INFP      I   \n",
       "106065  enfj since january busy schedule able spend li...  INFP      I   \n",
       "106066  feel like men good problem tell parent want te...  INFP      I   \n",
       "\n",
       "       recognize judgment plan  \n",
       "0              N        T    J  \n",
       "1              N        T    J  \n",
       "2              N        T    J  \n",
       "3              N        T    J  \n",
       "4              N        T    J  \n",
       "...          ...      ...  ...  \n",
       "106062         N        F    P  \n",
       "106063         N        F    P  \n",
       "106064         N        F    P  \n",
       "106065         N        F    P  \n",
       "106066         N        F    P  \n",
       "\n",
       "[106067 rows x 6 columns]"
      ]
     },
     "execution_count": 16,
     "metadata": {},
     "output_type": "execute_result"
    }
   ],
   "source": [
    "data"
   ]
  },
  {
   "cell_type": "code",
   "execution_count": 17,
   "id": "991e81f9",
   "metadata": {
    "scrolled": true
   },
   "outputs": [
    {
     "data": {
      "text/plain": [
       "P    61632\n",
       "J    44435\n",
       "Name: plan, dtype: int64"
      ]
     },
     "execution_count": 17,
     "metadata": {},
     "output_type": "execute_result"
    }
   ],
   "source": [
    "data['energy'].value_counts() # I : 80677, E : 25390\n",
    "data['recognize'].value_counts() # N : 96866, S : 9201\n",
    "data['judgment'].value_counts() # T : 69203, F : 36864\n",
    "data['plan'].value_counts() # P : 61632, J : 44435\n",
    "\n",
    "# N or S 의 데이터가 10 대1로 비대칭임\n",
    "# 그다음순으로 I or E가 3대1로 비대칭"
   ]
  },
  {
   "cell_type": "code",
   "execution_count": 18,
   "id": "e6d78f35",
   "metadata": {},
   "outputs": [],
   "source": [
    "data['posts length']=data['posts'].apply(lambda x:len(x))"
   ]
  },
  {
   "cell_type": "code",
   "execution_count": 19,
   "id": "6b07b4c3",
   "metadata": {},
   "outputs": [
    {
     "data": {
      "text/plain": [
       "<AxesSubplot:xlabel='posts length', ylabel='Count'>"
      ]
     },
     "execution_count": 19,
     "metadata": {},
     "output_type": "execute_result"
    },
    {
     "data": {
      "image/png": "[encoded data removed]",
      "text/plain": [
       "<Figure size 432x288 with 1 Axes>"
      ]
     },
     "metadata": {
      "needs_background": "light"
     },
     "output_type": "display_data"
    }
   ],
   "source": [
    "sns.histplot(data['posts length'])"
   ]
  },
  {
   "cell_type": "code",
   "execution_count": 20,
   "id": "a85d0c38",
   "metadata": {},
   "outputs": [],
   "source": [
    "data['voca count']=data['posts'].apply(lambda x:x.split()).apply(lambda x:len(x))"
   ]
  },
  {
   "cell_type": "code",
   "execution_count": 21,
   "id": "31a8fc68",
   "metadata": {},
   "outputs": [
    {
     "data": {
      "text/plain": [
       "<AxesSubplot:xlabel='voca count', ylabel='Count'>"
      ]
     },
     "execution_count": 21,
     "metadata": {},
     "output_type": "execute_result"
    },
    {
     "data": {
      "image/png": "[encoded data removed]",
      "text/plain": [
       "<Figure size 432x288 with 1 Axes>"
      ]
     },
     "metadata": {
      "needs_background": "light"
     },
     "output_type": "display_data"
    }
   ],
   "source": [
    "sns.histplot(data['voca count'])"
   ]
  },
  {
   "cell_type": "code",
   "execution_count": 22,
   "id": "02c8ca7d",
   "metadata": {},
   "outputs": [
    {
     "data": {
      "text/plain": [
       "count    106067.000000\n",
       "mean        500.019818\n",
       "std           1.209997\n",
       "min         479.000000\n",
       "25%         500.000000\n",
       "50%         500.000000\n",
       "75%         500.000000\n",
       "max         527.000000\n",
       "Name: voca count, dtype: float64"
      ]
     },
     "execution_count": 22,
     "metadata": {},
     "output_type": "execute_result"
    }
   ],
   "source": [
    "data['voca count'].describe()"
   ]
  },
  {
   "cell_type": "code",
   "execution_count": null,
   "id": "8d711054",
   "metadata": {},
   "outputs": [],
   "source": []
  },
  {
   "cell_type": "code",
   "execution_count": 23,
   "id": "34a0ebd4",
   "metadata": {},
   "outputs": [],
   "source": [
    "# EDA 진행 "
   ]
  },
  {
   "cell_type": "code",
   "execution_count": 24,
   "id": "acf7b930",
   "metadata": {},
   "outputs": [],
   "source": [
    "# ----------------------------------------------------- # "
   ]
  },
  {
   "cell_type": "code",
   "execution_count": 25,
   "id": "9fb8973b",
   "metadata": {},
   "outputs": [],
   "source": [
    "# 분류, 토큰, 형태소 분석, 태깅, 구문 분석"
   ]
  },
  {
   "cell_type": "code",
   "execution_count": 26,
   "id": "17784356",
   "metadata": {},
   "outputs": [],
   "source": [
    "# https://lemontia.tistory.com/802"
   ]
  },
  {
   "cell_type": "code",
   "execution_count": 27,
   "id": "541503b1",
   "metadata": {},
   "outputs": [
    {
     "data": {
      "text/plain": [
       "['i', 'me', 'my', 'myself', 'we', 'our', 'ours', 'ourselves', 'you', \"you're\"]"
      ]
     },
     "execution_count": 27,
     "metadata": {},
     "output_type": "execute_result"
    }
   ],
   "source": [
    "import nltk\n",
    "\n",
    "from nltk.corpus import stopwords\n",
    "\n",
    "stopwords.words('english')[:10]\n",
    "# ['i', 'me', 'my', 'myself', 'we', 'our', 'ours', 'ourselves', 'you', \"you're\"]\n",
    "# stopwords.words('english')\n"
   ]
  },
  {
   "cell_type": "code",
   "execution_count": 28,
   "id": "d9afc353",
   "metadata": {},
   "outputs": [],
   "source": [
    "# https://ngio.co.kr/9518"
   ]
  },
  {
   "cell_type": "code",
   "execution_count": null,
   "id": "fbe792e8",
   "metadata": {},
   "outputs": [],
   "source": []
  },
  {
   "cell_type": "code",
   "execution_count": 29,
   "id": "9d6455b7",
   "metadata": {},
   "outputs": [],
   "source": [
    "# 텍스트 마이닝\n",
    "# https://m.blog.naver.com/rufgksdb/221592552859"
   ]
  },
  {
   "cell_type": "code",
   "execution_count": null,
   "id": "d1cdbdec",
   "metadata": {},
   "outputs": [],
   "source": []
  },
  {
   "cell_type": "code",
   "execution_count": null,
   "id": "d37eeb5c",
   "metadata": {},
   "outputs": [],
   "source": [
    "# 토큰화 (의미는 단어로 나뉘어 준비)"
   ]
  },
  {
   "cell_type": "code",
   "execution_count": null,
   "id": "412638f3",
   "metadata": {},
   "outputs": [],
   "source": [
    "# 자연어 처리 패키지 참고\n",
    "https://datascienceschool.net/03%20machine%20learning/03.01.01%20NLTK%20%EC%9E%90%EC%97%B0%EC%96%B4%20%EC%B2%98%EB%A6%AC%20%ED%8C%A8%ED%82%A4%EC%A7%80.html\n",
    "https://datascienceschool.net/03%20machine%20learning/03.01.02%20KoNLPy%20%ED%95%9C%EA%B5%AD%EC%96%B4%20%EC%B2%98%EB%A6%AC%20%ED%8C%A8%ED%82%A4%EC%A7%80.html"
   ]
  },
  {
   "cell_type": "code",
   "execution_count": 30,
   "id": "86ceee55",
   "metadata": {},
   "outputs": [],
   "source": [
    "sample_text=data['posts'][0]"
   ]
  },
  {
   "cell_type": "code",
   "execution_count": 39,
   "id": "32f1d46a",
   "metadata": {},
   "outputs": [],
   "source": [
    "# 토큰 생성\n",
    "from nltk.tokenize import sent_tokenize # 문장을 리스트 안에 집어넣음"
   ]
  },
  {
   "cell_type": "code",
   "execution_count": 40,
   "id": "616a1408",
   "metadata": {},
   "outputs": [],
   "source": [
    "# print(sent_tokenize(sample_text))"
   ]
  },
  {
   "cell_type": "code",
   "execution_count": 41,
   "id": "e76fc512",
   "metadata": {},
   "outputs": [],
   "source": [
    "# sent_tokenize(sample_text) # 단순히 리스트 안에 집어넣은것 밖에 안되는듯?"
   ]
  },
  {
   "cell_type": "code",
   "execution_count": 42,
   "id": "42bcd718",
   "metadata": {},
   "outputs": [],
   "source": [
    "from nltk.tokenize import word_tokenize"
   ]
  },
  {
   "cell_type": "code",
   "execution_count": 44,
   "id": "100b77db",
   "metadata": {},
   "outputs": [],
   "source": [
    "# word_tokenize(sample_text) # 공백단위 토크나이즈한듯?"
   ]
  },
  {
   "cell_type": "code",
   "execution_count": 45,
   "id": "c6ed7fee",
   "metadata": {},
   "outputs": [],
   "source": [
    "from nltk.tokenize import RegexpTokenizer"
   ]
  },
  {
   "cell_type": "code",
   "execution_count": 46,
   "id": "967f086c",
   "metadata": {},
   "outputs": [],
   "source": [
    "retokenize = RegexpTokenizer(\"[\\w]+\")\n",
    "# retokenize.tokenize(sample_text)"
   ]
  },
  {
   "cell_type": "code",
   "execution_count": null,
   "id": "375cac12",
   "metadata": {},
   "outputs": [],
   "source": []
  },
  {
   "cell_type": "code",
   "execution_count": 47,
   "id": "cbd3a262",
   "metadata": {},
   "outputs": [],
   "source": [
    "from nltk.stem import PorterStemmer, LancasterStemmer"
   ]
  },
  {
   "cell_type": "code",
   "execution_count": 48,
   "id": "5a3377ea",
   "metadata": {},
   "outputs": [
    {
     "name": "stdout",
     "output_type": "stream",
     "text": [
      "Porter Stemmer   : ['fli', 'fli', 'fli', 'flew', 'flown']\n",
      "Lancaster Stemmer: ['fly', 'fli', 'fly', 'flew', 'flown']\n"
     ]
    }
   ],
   "source": [
    "st1 = PorterStemmer()\n",
    "st2 =  LancasterStemmer()\n",
    "\n",
    "words = [\"fly\", \"flies\", \"flying\", \"flew\", \"flown\"]\n",
    "\n",
    "print(\"Porter Stemmer   :\", [st1.stem(w) for w in words])\n",
    "print(\"Lancaster Stemmer:\", [st2.stem(w) for w in words])"
   ]
  },
  {
   "cell_type": "code",
   "execution_count": 49,
   "id": "e29ed08e",
   "metadata": {},
   "outputs": [],
   "source": [
    "# "
   ]
  },
  {
   "cell_type": "code",
   "execution_count": 50,
   "id": "75e3d3e9",
   "metadata": {},
   "outputs": [
    {
     "data": {
      "text/plain": [
       "['fly', 'fly', 'fly', 'fly', 'fly']"
      ]
     },
     "execution_count": 50,
     "metadata": {},
     "output_type": "execute_result"
    }
   ],
   "source": [
    "from nltk.stem import WordNetLemmatizer\n",
    "words = [\"flies\", \"fly\", \"flying\", \"flew\", \"flown\"]\n",
    "\n",
    "lm = WordNetLemmatizer()\n",
    "\n",
    "[lm.lemmatize(w, pos=\"v\") for w in words]"
   ]
  },
  {
   "cell_type": "code",
   "execution_count": null,
   "id": "11ee23cb",
   "metadata": {},
   "outputs": [],
   "source": []
  },
  {
   "cell_type": "code",
   "execution_count": 51,
   "id": "65e85456",
   "metadata": {},
   "outputs": [
    {
     "name": "stdout",
     "output_type": "stream",
     "text": [
      "VB: verb, base form\n",
      "    ask assemble assess assign assume atone attention avoid bake balkanize\n",
      "    bank begin behold believe bend benefit bevel beware bless boil bomb\n",
      "    boost brace break bring broil brush build ...\n"
     ]
    }
   ],
   "source": [
    "nltk.help.upenn_tagset(\"VB\")"
   ]
  },
  {
   "cell_type": "code",
   "execution_count": null,
   "id": "3d47c544",
   "metadata": {},
   "outputs": [],
   "source": []
  },
  {
   "cell_type": "code",
   "execution_count": 52,
   "id": "5e76e52d",
   "metadata": {},
   "outputs": [],
   "source": [
    "# 단어 토큰에 품사를 부착하여 튜플로 출력"
   ]
  },
  {
   "cell_type": "code",
   "execution_count": 53,
   "id": "ab9de8b1",
   "metadata": {},
   "outputs": [],
   "source": [
    "from nltk.tag import pos_tag"
   ]
  },
  {
   "cell_type": "code",
   "execution_count": 54,
   "id": "d0a50da1",
   "metadata": {},
   "outputs": [
    {
     "data": {
      "text/plain": [
       "[('Emma', 'NNP'),\n",
       " ('refused', 'VBD'),\n",
       " ('to', 'TO'),\n",
       " ('permit', 'VB'),\n",
       " ('us', 'PRP'),\n",
       " ('to', 'TO'),\n",
       " ('obtain', 'VB'),\n",
       " ('the', 'DT'),\n",
       " ('refuse', 'NN'),\n",
       " ('permit', 'NN')]"
      ]
     },
     "execution_count": 54,
     "metadata": {},
     "output_type": "execute_result"
    }
   ],
   "source": [
    "sentence = \"Emma refused to permit us to obtain the refuse permit\"\n",
    "tagged_list = pos_tag(word_tokenize(sentence))\n",
    "tagged_list"
   ]
  },
  {
   "cell_type": "code",
   "execution_count": null,
   "id": "7b7f7ac0",
   "metadata": {},
   "outputs": [],
   "source": []
  },
  {
   "cell_type": "code",
   "execution_count": null,
   "id": "1dec8845",
   "metadata": {},
   "outputs": [],
   "source": []
  },
  {
   "cell_type": "code",
   "execution_count": 56,
   "id": "a54ab529",
   "metadata": {},
   "outputs": [],
   "source": [
    "from nltk import Text"
   ]
  },
  {
   "cell_type": "code",
   "execution_count": 57,
   "id": "6a81f4fc",
   "metadata": {},
   "outputs": [],
   "source": [
    "# 각 단어 사용 빈도 그래프 출력"
   ]
  },
  {
   "cell_type": "code",
   "execution_count": 58,
   "id": "6ef7f78d",
   "metadata": {},
   "outputs": [],
   "source": [
    "text = Text(retokenize.tokenize(sample_text))"
   ]
  },
  {
   "cell_type": "code",
   "execution_count": 59,
   "id": "dca1541d",
   "metadata": {},
   "outputs": [
    {
     "data": {
      "image/png": "[encoded data removed]",
      "text/plain": [
       "<Figure size 432x288 with 1 Axes>"
      ]
     },
     "metadata": {
      "needs_background": "light"
     },
     "output_type": "display_data"
    }
   ],
   "source": [
    "text.plot(20) # 상위 20개\n",
    "plt.show()"
   ]
  },
  {
   "cell_type": "code",
   "execution_count": 60,
   "id": "5d094cfe",
   "metadata": {},
   "outputs": [
    {
     "data": {
      "image/png": "[encoded data removed]",
      "text/plain": [
       "<Figure size 432x288 with 1 Axes>"
      ]
     },
     "metadata": {
      "needs_background": "light"
     },
     "output_type": "display_data"
    }
   ],
   "source": [
    "# 단어 사용 위치\n",
    "text.dispersion_plot([\"people\", \"like\", \"know\", \"need\", \"get\", \"seed\"])"
   ]
  },
  {
   "cell_type": "code",
   "execution_count": 61,
   "id": "3838ad3d",
   "metadata": {},
   "outputs": [
    {
     "name": "stdout",
     "output_type": "stream",
     "text": [
      "Displaying 16 of 16 matches:\n",
      "know intj tool use interaction people excuse antisocial truly enlighten m\n",
      "unt pet peeze something time matter people either whether group people mall ne\n",
      " matter people either whether group people mall never see best friend sit outs\n",
      "nt thought find fascinate sit watch people talk people fascinate sit class wat\n",
      "ind fascinate sit watch people talk people fascinate sit class watch different\n",
      "fascinate sit class watch different people find intrigue dad intj u stand look\n",
      " stand look like line safeway watch people home talk people like think militar\n",
      "line safeway watch people home talk people like think military job people volu\n",
      "talk people like think military job people voluntarily go job important show d\n",
      "picture beast put someone arm sadly people blind brilliance need tell directly\n",
      "ever reason college prepare recieve people like depend career introductory cou\n",
      "e strange confession time mind wish people le judgemental self perceive flaw r\n",
      "tistic even know asd associate intj people mind two even remotely similar card\n",
      "cy hallmark post office long enough people whether individual people governmen\n",
      "ng enough people whether individual people government conglomerate corporation\n",
      "corporation think well someone else people free rider problem seed bank never \n"
     ]
    }
   ],
   "source": [
    "text.concordance(\"people\")"
   ]
  },
  {
   "cell_type": "code",
   "execution_count": null,
   "id": "56d0279f",
   "metadata": {},
   "outputs": [],
   "source": []
  },
  {
   "cell_type": "code",
   "execution_count": 62,
   "id": "c8568c2b",
   "metadata": {},
   "outputs": [],
   "source": [
    "#------------- #"
   ]
  },
  {
   "cell_type": "code",
   "execution_count": 63,
   "id": "44262014",
   "metadata": {},
   "outputs": [],
   "source": [
    "# 진행"
   ]
  },
  {
   "cell_type": "code",
   "execution_count": 64,
   "id": "9b751c93",
   "metadata": {},
   "outputs": [],
   "source": [
    "data['tokenization']=data['posts'].apply(lambda x:word_tokenize(x))"
   ]
  },
  {
   "cell_type": "code",
   "execution_count": 65,
   "id": "9032b47a",
   "metadata": {},
   "outputs": [
    {
     "data": {
      "text/html": [
       "<div>\n",
       "<style scoped>\n",
       "    .dataframe tbody tr th:only-of-type {\n",
       "        vertical-align: middle;\n",
       "    }\n",
       "\n",
       "    .dataframe tbody tr th {\n",
       "        vertical-align: top;\n",
       "    }\n",
       "\n",
       "    .dataframe thead th {\n",
       "        text-align: right;\n",
       "    }\n",
       "</style>\n",
       "<table border=\"1\" class=\"dataframe\">\n",
       "  <thead>\n",
       "    <tr style=\"text-align: right;\">\n",
       "      <th></th>\n",
       "      <th>posts</th>\n",
       "      <th>type</th>\n",
       "      <th>energy</th>\n",
       "      <th>recognize</th>\n",
       "      <th>judgment</th>\n",
       "      <th>plan</th>\n",
       "      <th>posts length</th>\n",
       "      <th>voca count</th>\n",
       "      <th>tokenization</th>\n",
       "    </tr>\n",
       "  </thead>\n",
       "  <tbody>\n",
       "    <tr>\n",
       "      <th>0</th>\n",
       "      <td>know intj tool use interaction people excuse a...</td>\n",
       "      <td>INTJ</td>\n",
       "      <td>I</td>\n",
       "      <td>N</td>\n",
       "      <td>T</td>\n",
       "      <td>J</td>\n",
       "      <td>3367</td>\n",
       "      <td>501</td>\n",
       "      <td>[know, intj, tool, use, interaction, people, e...</td>\n",
       "    </tr>\n",
       "    <tr>\n",
       "      <th>1</th>\n",
       "      <td>rap music ehh opp yeah know valid well know fa...</td>\n",
       "      <td>INTJ</td>\n",
       "      <td>I</td>\n",
       "      <td>N</td>\n",
       "      <td>T</td>\n",
       "      <td>J</td>\n",
       "      <td>3321</td>\n",
       "      <td>501</td>\n",
       "      <td>[rap, music, ehh, opp, yeah, know, valid, well...</td>\n",
       "    </tr>\n",
       "    <tr>\n",
       "      <th>2</th>\n",
       "      <td>preferably p hd low except wew lad video p min...</td>\n",
       "      <td>INTJ</td>\n",
       "      <td>I</td>\n",
       "      <td>N</td>\n",
       "      <td>T</td>\n",
       "      <td>J</td>\n",
       "      <td>3240</td>\n",
       "      <td>501</td>\n",
       "      <td>[preferably, p, hd, low, except, wew, lad, vid...</td>\n",
       "    </tr>\n",
       "    <tr>\n",
       "      <th>3</th>\n",
       "      <td>drink like wish could drink red wine give head...</td>\n",
       "      <td>INTJ</td>\n",
       "      <td>I</td>\n",
       "      <td>N</td>\n",
       "      <td>T</td>\n",
       "      <td>J</td>\n",
       "      <td>3257</td>\n",
       "      <td>501</td>\n",
       "      <td>[drink, like, wish, could, drink, red, wine, g...</td>\n",
       "    </tr>\n",
       "    <tr>\n",
       "      <th>4</th>\n",
       "      <td>space program ah bad deal meing freelance max ...</td>\n",
       "      <td>INTJ</td>\n",
       "      <td>I</td>\n",
       "      <td>N</td>\n",
       "      <td>T</td>\n",
       "      <td>J</td>\n",
       "      <td>3267</td>\n",
       "      <td>501</td>\n",
       "      <td>[space, program, ah, bad, deal, meing, freelan...</td>\n",
       "    </tr>\n",
       "    <tr>\n",
       "      <th>...</th>\n",
       "      <td>...</td>\n",
       "      <td>...</td>\n",
       "      <td>...</td>\n",
       "      <td>...</td>\n",
       "      <td>...</td>\n",
       "      <td>...</td>\n",
       "      <td>...</td>\n",
       "      <td>...</td>\n",
       "      <td>...</td>\n",
       "    </tr>\n",
       "    <tr>\n",
       "      <th>106062</th>\n",
       "      <td>stay frustrate world life want take long nap w...</td>\n",
       "      <td>INFP</td>\n",
       "      <td>I</td>\n",
       "      <td>N</td>\n",
       "      <td>F</td>\n",
       "      <td>P</td>\n",
       "      <td>2956</td>\n",
       "      <td>499</td>\n",
       "      <td>[stay, frustrate, world, life, want, take, lon...</td>\n",
       "    </tr>\n",
       "    <tr>\n",
       "      <th>106063</th>\n",
       "      <td>fizzle around time mention sure mistake thing ...</td>\n",
       "      <td>INFP</td>\n",
       "      <td>I</td>\n",
       "      <td>N</td>\n",
       "      <td>F</td>\n",
       "      <td>P</td>\n",
       "      <td>3291</td>\n",
       "      <td>499</td>\n",
       "      <td>[fizzle, around, time, mention, sure, mistake,...</td>\n",
       "    </tr>\n",
       "    <tr>\n",
       "      <th>106064</th>\n",
       "      <td>schedule modify hey w intp strong wing underst...</td>\n",
       "      <td>INFP</td>\n",
       "      <td>I</td>\n",
       "      <td>N</td>\n",
       "      <td>F</td>\n",
       "      <td>P</td>\n",
       "      <td>3192</td>\n",
       "      <td>499</td>\n",
       "      <td>[schedule, modify, hey, w, intp, strong, wing,...</td>\n",
       "    </tr>\n",
       "    <tr>\n",
       "      <th>106065</th>\n",
       "      <td>enfj since january busy schedule able spend li...</td>\n",
       "      <td>INFP</td>\n",
       "      <td>I</td>\n",
       "      <td>N</td>\n",
       "      <td>F</td>\n",
       "      <td>P</td>\n",
       "      <td>3194</td>\n",
       "      <td>499</td>\n",
       "      <td>[enfj, since, january, busy, schedule, able, s...</td>\n",
       "    </tr>\n",
       "    <tr>\n",
       "      <th>106066</th>\n",
       "      <td>feel like men good problem tell parent want te...</td>\n",
       "      <td>INFP</td>\n",
       "      <td>I</td>\n",
       "      <td>N</td>\n",
       "      <td>F</td>\n",
       "      <td>P</td>\n",
       "      <td>3089</td>\n",
       "      <td>499</td>\n",
       "      <td>[feel, like, men, good, problem, tell, parent,...</td>\n",
       "    </tr>\n",
       "  </tbody>\n",
       "</table>\n",
       "<p>106067 rows × 9 columns</p>\n",
       "</div>"
      ],
      "text/plain": [
       "                                                    posts  type energy  \\\n",
       "0       know intj tool use interaction people excuse a...  INTJ      I   \n",
       "1       rap music ehh opp yeah know valid well know fa...  INTJ      I   \n",
       "2       preferably p hd low except wew lad video p min...  INTJ      I   \n",
       "3       drink like wish could drink red wine give head...  INTJ      I   \n",
       "4       space program ah bad deal meing freelance max ...  INTJ      I   \n",
       "...                                                   ...   ...    ...   \n",
       "106062  stay frustrate world life want take long nap w...  INFP      I   \n",
       "106063  fizzle around time mention sure mistake thing ...  INFP      I   \n",
       "106064  schedule modify hey w intp strong wing underst...  INFP      I   \n",
       "106065  enfj since january busy schedule able spend li...  INFP      I   \n",
       "106066  feel like men good problem tell parent want te...  INFP      I   \n",
       "\n",
       "       recognize judgment plan  posts length  voca count  \\\n",
       "0              N        T    J          3367         501   \n",
       "1              N        T    J          3321         501   \n",
       "2              N        T    J          3240         501   \n",
       "3              N        T    J          3257         501   \n",
       "4              N        T    J          3267         501   \n",
       "...          ...      ...  ...           ...         ...   \n",
       "106062         N        F    P          2956         499   \n",
       "106063         N        F    P          3291         499   \n",
       "106064         N        F    P          3192         499   \n",
       "106065         N        F    P          3194         499   \n",
       "106066         N        F    P          3089         499   \n",
       "\n",
       "                                             tokenization  \n",
       "0       [know, intj, tool, use, interaction, people, e...  \n",
       "1       [rap, music, ehh, opp, yeah, know, valid, well...  \n",
       "2       [preferably, p, hd, low, except, wew, lad, vid...  \n",
       "3       [drink, like, wish, could, drink, red, wine, g...  \n",
       "4       [space, program, ah, bad, deal, meing, freelan...  \n",
       "...                                                   ...  \n",
       "106062  [stay, frustrate, world, life, want, take, lon...  \n",
       "106063  [fizzle, around, time, mention, sure, mistake,...  \n",
       "106064  [schedule, modify, hey, w, intp, strong, wing,...  \n",
       "106065  [enfj, since, january, busy, schedule, able, s...  \n",
       "106066  [feel, like, men, good, problem, tell, parent,...  \n",
       "\n",
       "[106067 rows x 9 columns]"
      ]
     },
     "execution_count": 65,
     "metadata": {},
     "output_type": "execute_result"
    }
   ],
   "source": [
    "data"
   ]
  },
  {
   "cell_type": "code",
   "execution_count": null,
   "id": "fa844b8b",
   "metadata": {},
   "outputs": [],
   "source": []
  },
  {
   "cell_type": "markdown",
   "id": "4394e72a",
   "metadata": {},
   "source": [
    "https://wikidocs.net/31698 \n",
    "https://wikidocs.net/33661\n",
    "\n",
    "DTM, TF-IDF 참고"
   ]
  },
  {
   "cell_type": "code",
   "execution_count": 66,
   "id": "4549686c",
   "metadata": {},
   "outputs": [],
   "source": [
    "# 전처리 안한 2차원배열 corpus 구성"
   ]
  },
  {
   "cell_type": "code",
   "execution_count": 67,
   "id": "522e6e6b",
   "metadata": {},
   "outputs": [],
   "source": [
    "from sklearn.feature_extraction.text import CountVectorizer"
   ]
  },
  {
   "cell_type": "code",
   "execution_count": 68,
   "id": "dfe5f5fe",
   "metadata": {},
   "outputs": [],
   "source": [
    "# 예시"
   ]
  },
  {
   "cell_type": "code",
   "execution_count": 69,
   "id": "f2949b27",
   "metadata": {},
   "outputs": [
    {
     "name": "stdout",
     "output_type": "stream",
     "text": [
      "[[0 1 0 1 0 1 0 1 1]\n",
      " [0 0 1 0 0 0 0 1 0]\n",
      " [1 0 0 0 1 0 1 0 0]]\n",
      "{'you': 7, 'know': 1, 'want': 5, 'your': 8, 'love': 3, 'like': 2, 'what': 6, 'should': 4, 'do': 0}\n"
     ]
    }
   ],
   "source": [
    "corpus = [\n",
    "    'you know I want your love',\n",
    "    'I like you',\n",
    "    'what should I do ',    \n",
    "]\n",
    "\n",
    "vector = CountVectorizer()\n",
    "\n",
    "# 코퍼스로부터 각 단어의 빈도수를 기록\n",
    "print(vector.fit_transform(corpus).toarray())\n",
    "\n",
    "# 각 단어와 맵핑된 인덱스 출력\n",
    "print(vector.vocabulary_)"
   ]
  },
  {
   "cell_type": "code",
   "execution_count": null,
   "id": "c2b59d2f",
   "metadata": {},
   "outputs": [],
   "source": []
  },
  {
   "cell_type": "code",
   "execution_count": 76,
   "id": "2061fb4f",
   "metadata": {},
   "outputs": [],
   "source": [
    "from sklearn.feature_extraction.text import TfidfVectorizer"
   ]
  },
  {
   "cell_type": "code",
   "execution_count": 77,
   "id": "52f7d2ba",
   "metadata": {},
   "outputs": [
    {
     "name": "stdout",
     "output_type": "stream",
     "text": [
      "[[0.         0.46735098 0.         0.46735098 0.         0.46735098\n",
      "  0.         0.35543247 0.46735098]\n",
      " [0.         0.         0.79596054 0.         0.         0.\n",
      "  0.         0.60534851 0.        ]\n",
      " [0.57735027 0.         0.         0.         0.57735027 0.\n",
      "  0.57735027 0.         0.        ]]\n",
      "{'you': 7, 'know': 1, 'want': 5, 'your': 8, 'love': 3, 'like': 2, 'what': 6, 'should': 4, 'do': 0}\n"
     ]
    }
   ],
   "source": [
    "corpus = [\n",
    "    'you know I want your love',\n",
    "    'I like you',\n",
    "    'what should I do ',    \n",
    "]\n",
    "\n",
    "tfidfv = TfidfVectorizer().fit(corpus)\n",
    "print(tfidfv.transform(corpus).toarray())\n",
    "print(tfidfv.vocabulary_)"
   ]
  },
  {
   "cell_type": "code",
   "execution_count": null,
   "id": "68c75768",
   "metadata": {},
   "outputs": [],
   "source": []
  },
  {
   "cell_type": "code",
   "execution_count": null,
   "id": "74bb2823",
   "metadata": {},
   "outputs": [],
   "source": []
  },
  {
   "cell_type": "code",
   "execution_count": 72,
   "id": "8c3c0066",
   "metadata": {},
   "outputs": [],
   "source": [
    "vector = CountVectorizer()"
   ]
  },
  {
   "cell_type": "code",
   "execution_count": 73,
   "id": "6991e2ff",
   "metadata": {},
   "outputs": [
    {
     "name": "stdout",
     "output_type": "stream",
     "text": [
      "[[0 0 0 ... 0 0 0]\n",
      " [0 0 0 ... 0 0 0]\n",
      " [0 0 0 ... 0 0 0]\n",
      " ...\n",
      " [0 0 0 ... 0 0 0]\n",
      " [0 0 0 ... 0 0 0]\n",
      " [0 0 0 ... 0 0 0]]\n"
     ]
    }
   ],
   "source": [
    "# 코퍼스로부터 각 단어의 빈도수를 기록\n",
    "print(vector.fit_transform(data['tokenization'][0]).toarray())"
   ]
  },
  {
   "cell_type": "code",
   "execution_count": 75,
   "id": "84a11bcd",
   "metadata": {},
   "outputs": [
    {
     "name": "stdout",
     "output_type": "stream",
     "text": [
      "{'know': 162, 'intj': 150, 'tool': 308, 'use': 317, 'interaction': 146, 'people': 213, 'excuse': 93, 'antisocial': 12, 'truly': 312, 'enlighten': 88, 'mastermind': 182, 'would': 333, 'count': 60, 'pet': 220, 'peeze': 212, 'something': 278, 'time': 307, 'matter': 183, 'either': 82, 'whether': 330, 'group': 128, 'mall': 181, 'never': 199, 'see': 263, 'best': 26, 'friend': 116, 'sit': 274, 'outside': 210, 'conversation': 56, 'jsut': 156, 'listen': 170, 'want': 323, 'interject': 148, 'formulate': 112, 'say': 261, 'wait': 321, 'inject': 142, 'argument': 13, 'thought': 305, 'find': 107, 'fascinate': 103, 'watch': 324, 'talk': 297, 'class': 43, 'different': 70, 'intrigue': 151, 'dad': 64, 'stand': 284, 'look': 176, 'like': 168, 'line': 169, 'safeway': 260, 'home': 135, 'think': 303, 'military': 190, 'job': 155, 'voluntarily': 320, 'go': 124, 'important': 139, 'show': 270, 'deference': 67, 'endanger': 87, 'live': 172, 'glorify': 123, 'way': 326, 'civilian': 42, 'pretty': 234, 'ignorant': 138, 'general': 120, 'necessary': 196, 'defense': 66, 'mechanism': 186, 'political': 228, 'tactic': 295, 'feel': 105, 'specifically': 283, 'invest': 153, 'much': 194, 'money': 193, 'could': 59, 'put': 239, 'education': 81, 'whatnot': 329, 'though': 304, 'personally': 218, 'sound': 282, 'budget': 34, 'aernative': 2, 'really': 245, 'comment': 47, 'one': 207, 'base': 22, 'two': 313, 'politician': 229, 'eye': 99, 'year': 335, 'ago': 4, 'come': 46, 'name': 195, 'somewhat': 280, 'kinda': 160, 'role': 255, 'model': 192, 'nowadays': 202, 'pick': 222, 'keep': 159, 'score': 262, 'individual': 141, 'level': 166, 'mean': 185, 'little': 171, 'vary': 318, 'accord': 0, 'number': 203, 'condition': 49, 'day': 65, 'may': 184, 'high': 133, 'others': 209, 'low': 178, 'sweat': 293, 'good': 125, 'cast': 40, 'physiotherapist': 221, 'fiberglass': 106, 'break': 31, 'arm': 14, 'whatever': 328, 'sometimes': 279, 'take': 296, 'picture': 223, 'beast': 23, 'someone': 277, 'sadly': 258, 'blind': 30, 'brilliance': 32, 'need': 197, 'tell': 299, 'directly': 72, 'wave': 325, 'frantically': 113, 'totally': 309, 'beyond': 27, 'oblivious': 204, 'get': 122, 'contact': 55, 'help': 132, 'lot': 177, 'start': 285, 'attention': 17, 'opposite': 208, 'sex': 269, 'notice': 201, 'however': 136, 'gay': 119, 'men': 187, 'tend': 300, 'aggressive': 3, 'always': 9, 'walk': 322, 'away': 19, 'flatter': 109, 'alcohol': 7, 'bad': 20, 'generally': 121, 'pas': 211, 'run': 257, 'even': 92, 'mention': 188, 'fact': 100, 'crave': 63, 'cocaine': 44, 'drink': 75, 'power': 232, 'mainly': 179, 'desire': 69, 'form': 111, 'okay': 206, 'status': 286, 'still': 287, 'study': 290, 'life': 167, 'learn': 164, 'real': 242, 'reason': 246, 'college': 45, 'prepare': 233, 'recieve': 247, 'depend': 68, 'career': 38, 'introductory': 152, 'course': 61, 'rid': 253, 'bike': 28, 'write': 334, 'essay': 90, 'etc': 91, 'choose': 41, 'least': 165, 'stimulate': 288, 'mind': 191, 'expand': 94, 'perspective': 219, 'reality': 243, 'without': 332, 'kiss': 161, 'ear': 78, 'yup': 337, 'roll': 256, 'end': 86, 'quite': 241, 'strange': 289, 'confession': 51, 'wish': 331, 'le': 163, 'judgemental': 158, 'self': 265, 'perceive': 214, 'flaw': 110, 'situation': 275, 'person': 217, 'confess': 50, 'expect': 95, 'judge': 157, 'another': 11, 'freak': 114, 'realize': 244, 'gasp': 118, 'human': 137, 'interpret': 149, 'acknowledgement': 1, 'sign': 271, 'terrible': 301, 'agree': 5, 'impulse': 140, 'ditch': 73, 'safe': 259, 'place': 224, 'quickly': 240, 'become': 24, 'somewhere': 281, 'dump': 77, 'emotional': 85, 'trash': 310, 'gui': 129, 'free': 115, 'interest': 147, 'play': 225, 'noise': 200, 'midnight': 189, 'make': 180, 'cranky': 62, 'lol': 174, 'already': 8, 'autistic': 18, 'asd': 15, 'associate': 16, 'remotely': 251, 'similar': 272, 'card': 37, 'conspiracy': 54, 'hallmark': 131, 'post': 231, 'office': 205, 'long': 175, 'enough': 89, 'government': 126, 'conglomerate': 52, 'corporation': 57, 'understand': 314, 'biodiversity': 29, 'fund': 117, 'instead': 144, 'insurance': 145, 'policy': 227, 'fine': 108, 'aka': 6, 'negative': 198, 'external': 97, 'cost': 58, 'separate': 266, 'positive': 230, 'surplus': 292, 'thing': 302, 'seed': 264, 'bank': 21, 'visualize': 319, 'percent': 215, 'farm': 101, 'benefit': 25, 'yet': 336, 'separately': 267, 'farmer': 102, 'well': 327, 'else': 84, 'rider': 254, 'problem': 236, 'set': 268, 'stuff': 291, 'capitalism': 36, 'provide': 238, 'innovation': 143, 'regulation': 250, 'prevent': 235, 'consequence': 53, 'unintentional': 315, 'externality': 98, 'half': 130, 'thousand': 306, 'differents': 71, 'solution': 276, 'perhaps': 216, 'tax': 298, 'commerce': 48, 'usage': 316, 'fee': 104, 'california': 35, 'recycle': 248, 'electronics': 83, 'donation': 74, 'pledge': 226, 'system': 294, 'regardless': 249, 'expert': 96, 'truely': 311, 'location': 173, 'properly': 237, 'amp': 10, 'bsp': 33, 'due': 76, 'single': 273, 'involve': 154, 'economics': 80, 'economic': 79, 'history': 134, 'case': 39, 'green': 127, 'revolution': 252}\n"
     ]
    }
   ],
   "source": [
    "# 각 단어와 맵핑된 인덱스 출력\n",
    "print(vector.vocabulary_)"
   ]
  },
  {
   "cell_type": "code",
   "execution_count": null,
   "id": "6e375f98",
   "metadata": {},
   "outputs": [],
   "source": []
  },
  {
   "cell_type": "code",
   "execution_count": 79,
   "id": "09bf41fc",
   "metadata": {},
   "outputs": [
    {
     "data": {
      "text/plain": [
       "0         [know, intj, tool, use, interaction, people, e...\n",
       "1         [rap, music, ehh, opp, yeah, know, valid, well...\n",
       "2         [preferably, p, hd, low, except, wew, lad, vid...\n",
       "3         [drink, like, wish, could, drink, red, wine, g...\n",
       "4         [space, program, ah, bad, deal, meing, freelan...\n",
       "                                ...                        \n",
       "106062    [stay, frustrate, world, life, want, take, lon...\n",
       "106063    [fizzle, around, time, mention, sure, mistake,...\n",
       "106064    [schedule, modify, hey, w, intp, strong, wing,...\n",
       "106065    [enfj, since, january, busy, schedule, able, s...\n",
       "106066    [feel, like, men, good, problem, tell, parent,...\n",
       "Name: tokenization, Length: 106067, dtype: object"
      ]
     },
     "execution_count": 79,
     "metadata": {},
     "output_type": "execute_result"
    }
   ],
   "source": [
    "data['tokenization']"
   ]
  },
  {
   "cell_type": "code",
   "execution_count": null,
   "id": "9eb3539c",
   "metadata": {},
   "outputs": [],
   "source": []
  },
  {
   "cell_type": "markdown",
   "id": "5421e081",
   "metadata": {},
   "source": [
    "### MBTI corpus 생성. (아직 불용어 정의하여 제거 안함)"
   ]
  },
  {
   "cell_type": "code",
   "execution_count": 78,
   "id": "0cbae7ad",
   "metadata": {},
   "outputs": [],
   "source": [
    "corpus_MBTI = []"
   ]
  },
  {
   "cell_type": "code",
   "execution_count": 83,
   "id": "6f69b12a",
   "metadata": {},
   "outputs": [],
   "source": [
    "for i in range(len(data['tokenization'])):\n",
    "    corpus_MBTI.append(data['tokenization'][i])"
   ]
  },
  {
   "cell_type": "code",
   "execution_count": 85,
   "id": "e259e0eb",
   "metadata": {},
   "outputs": [],
   "source": [
    "# corpus_MBTI "
   ]
  },
  {
   "cell_type": "code",
   "execution_count": null,
   "id": "a42b62d8",
   "metadata": {},
   "outputs": [],
   "source": []
  },
  {
   "cell_type": "code",
   "execution_count": 88,
   "id": "2f89bbee",
   "metadata": {},
   "outputs": [],
   "source": [
    "from gensim.models import Word2Vec\n",
    "from gensim.models import KeyedVectors"
   ]
  },
  {
   "cell_type": "code",
   "execution_count": null,
   "id": "9e69841c",
   "metadata": {},
   "outputs": [],
   "source": []
  },
  {
   "cell_type": "code",
   "execution_count": 92,
   "id": "6872b5de",
   "metadata": {},
   "outputs": [
    {
     "name": "stderr",
     "output_type": "stream",
     "text": [
      "[nltk_data] Downloading package stopwords to\n",
      "[nltk_data]     C:\\Users\\lasts\\AppData\\Roaming\\nltk_data...\n",
      "[nltk_data]   Package stopwords is already up-to-date!\n"
     ]
    }
   ],
   "source": [
    "nltk.download('stopwords')\n",
    "from nltk.corpus import stopwords\n",
    "stop_words = stopwords.words('english')"
   ]
  },
  {
   "cell_type": "code",
   "execution_count": null,
   "id": "99c70d69",
   "metadata": {},
   "outputs": [],
   "source": []
  },
  {
   "cell_type": "code",
   "execution_count": null,
   "id": "4d2521b7",
   "metadata": {},
   "outputs": [],
   "source": []
  },
  {
   "cell_type": "code",
   "execution_count": null,
   "id": "c3604526",
   "metadata": {},
   "outputs": [],
   "source": []
  },
  {
   "cell_type": "code",
   "execution_count": null,
   "id": "e49a5931",
   "metadata": {},
   "outputs": [],
   "source": []
  }
 ],
 "metadata": {
  "kernelspec": {
   "display_name": "Python 3 (ipykernel)",
   "language": "python",
   "name": "python3"
  },
  "language_info": {
   "codemirror_mode": {
    "name": "ipython",
    "version": 3
   },
   "file_extension": ".py",
   "mimetype": "text/x-python",
   "name": "python",
   "nbconvert_exporter": "python",
   "pygments_lexer": "ipython3",
   "version": "3.9.12"
  }
 },
 "nbformat": 4,
 "nbformat_minor": 5
}
